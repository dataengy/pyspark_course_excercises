{
 "cells": [
  {
   "cell_type": "code",
   "execution_count": 68,
   "id": "4b94b2e0-3796-411b-ad82-1b56e7f89e1f",
   "metadata": {},
   "outputs": [
    {
     "data": {
      "text/html": [
       "\n",
       "            <div>\n",
       "                <p><b>SparkSession - in-memory</b></p>\n",
       "                \n",
       "        <div>\n",
       "            <p><b>SparkContext</b></p>\n",
       "\n",
       "            <p><a href=\"http://76c09a2dee74:4040\">Spark UI</a></p>\n",
       "\n",
       "            <dl>\n",
       "              <dt>Version</dt>\n",
       "                <dd><code>v3.4.0</code></dd>\n",
       "              <dt>Master</dt>\n",
       "                <dd><code>local</code></dd>\n",
       "              <dt>AppName</dt>\n",
       "                <dd><code>pyspark-shell</code></dd>\n",
       "            </dl>\n",
       "        </div>\n",
       "        \n",
       "            </div>\n",
       "        "
      ],
      "text/plain": [
       "<pyspark.sql.session.SparkSession at 0xffff994b1f10>"
      ]
     },
     "execution_count": 68,
     "metadata": {},
     "output_type": "execute_result"
    }
   ],
   "source": [
    "import pyspark\n",
    "from pyspark.sql.functions import *\n",
    "from pyspark.sql.types import *\n",
    "from pyspark.sql import SparkSession\n",
    "\n",
    "spark = SparkSession.builder.master(\"local\") \\\n",
    "    .config('spark.sql.autoBroadcastJoinThreshold', 0) \\\n",
    "    .config('spark.sql.adaptive.enabled', 'false') \\\n",
    "    .getOrCreate()\n",
    "spark"
   ]
  },
  {
   "cell_type": "markdown",
   "id": "5a9e9981-940c-40f3-9574-3a13e926e77d",
   "metadata": {},
   "source": [
    "#### Spark UI:\n",
    "- http://127.0.0.1:4040/stages/"
   ]
  },
  {
   "cell_type": "code",
   "execution_count": 69,
   "id": "a6214ad8-178b-4eac-b47d-e84f7f202d56",
   "metadata": {},
   "outputs": [
    {
     "name": "stdout",
     "output_type": "stream",
     "text": [
      "12\tdatasets/US_category_id.json\n",
      "71108\tdatasets/UScomments.csv\n",
      "2916\tdatasets/USvideos.csv\n"
     ]
    }
   ],
   "source": [
    "!du datasets/*"
   ]
  },
  {
   "cell_type": "code",
   "execution_count": 70,
   "id": "64ec3875-8667-46c3-b1b1-c7ec3df4bd39",
   "metadata": {},
   "outputs": [
    {
     "name": "stderr",
     "output_type": "stream",
     "text": [
      "Traceback (most recent call last):\n",
      "  File \"/tmp/ipykernel_24031/4189858458.py\", line 9, in <module>\n",
      "    videos = get_videos_df()\n",
      "             ^^^^^^^^^^^^^^^\n",
      "  File \"/tmp/ipykernel_24031/4189858458.py\", line 3, in get_videos_df\n",
      "    videos_df = spark.read.parquet('spark-warehouse/videos')\n",
      "                ^^^^^^^^^^^^^^^^^^^^^^^^^^^^^^^^^^^^^^^^^^^^\n",
      "  File \"/usr/local/spark/python/pyspark/sql/readwriter.py\", line 531, in parquet\n",
      "    return self._df(self._jreader.parquet(_to_seq(self._spark._sc, paths)))\n",
      "                    ^^^^^^^^^^^^^^^^^^^^^^^^^^^^^^^^^^^^^^^^^^^^^^^^^^^^^^\n",
      "  File \"/usr/local/spark/python/lib/py4j-0.10.9.7-src.zip/py4j/java_gateway.py\", line 1322, in __call__\n",
      "    return_value = get_return_value(\n",
      "                   ^^^^^^^^^^^^^^^^^\n",
      "  File \"/usr/local/spark/python/pyspark/errors/exceptions/captured.py\", line 175, in deco\n",
      "    raise converted from None\n",
      "pyspark.errors.exceptions.captured.AnalysisException: [UNABLE_TO_INFER_SCHEMA] Unable to infer schema for Parquet. It must be specified manually.\n"
     ]
    }
   ],
   "source": [
    "import traceback\n",
    "def get_videos_df():\n",
    "    videos_df = spark.read.parquet('spark-warehouse/videos')\n",
    "    videos_df.cache().count(), \\\n",
    "    videos_df.show(5, 55)\n",
    "    return videos_df\n",
    "\n",
    "try:\n",
    "    videos = get_videos_df()\n",
    "except: traceback.print_exc()"
   ]
  },
  {
   "cell_type": "code",
   "execution_count": 71,
   "id": "1c2a19f1-09d4-433b-bb14-495e1f69bf43",
   "metadata": {},
   "outputs": [
    {
     "data": {
      "text/html": [
       "<div>\n",
       "<style scoped>\n",
       "    .dataframe tbody tr th:only-of-type {\n",
       "        vertical-align: middle;\n",
       "    }\n",
       "\n",
       "    .dataframe tbody tr th {\n",
       "        vertical-align: top;\n",
       "    }\n",
       "\n",
       "    .dataframe thead th {\n",
       "        text-align: right;\n",
       "    }\n",
       "</style>\n",
       "<table border=\"1\" class=\"dataframe\">\n",
       "  <thead>\n",
       "    <tr style=\"text-align: right;\">\n",
       "      <th></th>\n",
       "      <th>0</th>\n",
       "      <th>1</th>\n",
       "      <th>2</th>\n",
       "    </tr>\n",
       "  </thead>\n",
       "  <tbody>\n",
       "    <tr>\n",
       "      <th>video_id</th>\n",
       "      <td>XpVt6Z1Gjjo</td>\n",
       "      <td>K4wEI5zhHB0</td>\n",
       "      <td>cLdxuaxaQwc</td>\n",
       "    </tr>\n",
       "    <tr>\n",
       "      <th>title</th>\n",
       "      <td>1 YEAR OF VLOGGING -- HOW LOGAN PAUL CHANGED Y...</td>\n",
       "      <td>iPhone X — Introducing iPhone X — Apple</td>\n",
       "      <td>My Response</td>\n",
       "    </tr>\n",
       "    <tr>\n",
       "      <th>channel_title</th>\n",
       "      <td>Logan Paul Vlogs</td>\n",
       "      <td>Apple</td>\n",
       "      <td>PewDiePie</td>\n",
       "    </tr>\n",
       "    <tr>\n",
       "      <th>category_id</th>\n",
       "      <td>24</td>\n",
       "      <td>28</td>\n",
       "      <td>22</td>\n",
       "    </tr>\n",
       "    <tr>\n",
       "      <th>tags</th>\n",
       "      <td>logan paul vlog|logan paul|logan|paul|olympics...</td>\n",
       "      <td>Apple|iPhone 10|iPhone Ten|iPhone|Portrait Lig...</td>\n",
       "      <td>[none]</td>\n",
       "    </tr>\n",
       "    <tr>\n",
       "      <th>views</th>\n",
       "      <td>4394029</td>\n",
       "      <td>7860119</td>\n",
       "      <td>5845909</td>\n",
       "    </tr>\n",
       "    <tr>\n",
       "      <th>likes</th>\n",
       "      <td>320053</td>\n",
       "      <td>185853</td>\n",
       "      <td>576597</td>\n",
       "    </tr>\n",
       "    <tr>\n",
       "      <th>dislikes</th>\n",
       "      <td>5931</td>\n",
       "      <td>26679</td>\n",
       "      <td>39774</td>\n",
       "    </tr>\n",
       "    <tr>\n",
       "      <th>comment_total</th>\n",
       "      <td>46245</td>\n",
       "      <td>0</td>\n",
       "      <td>170708</td>\n",
       "    </tr>\n",
       "    <tr>\n",
       "      <th>thumbnail_link</th>\n",
       "      <td>https://i.ytimg.com/vi/XpVt6Z1Gjjo/default.jpg</td>\n",
       "      <td>https://i.ytimg.com/vi/K4wEI5zhHB0/default.jpg</td>\n",
       "      <td>https://i.ytimg.com/vi/cLdxuaxaQwc/default.jpg</td>\n",
       "    </tr>\n",
       "    <tr>\n",
       "      <th>date</th>\n",
       "      <td>13.09</td>\n",
       "      <td>13.09</td>\n",
       "      <td>13.09</td>\n",
       "    </tr>\n",
       "  </tbody>\n",
       "</table>\n",
       "</div>"
      ],
      "text/plain": [
       "                                                                0  \\\n",
       "video_id                                              XpVt6Z1Gjjo   \n",
       "title           1 YEAR OF VLOGGING -- HOW LOGAN PAUL CHANGED Y...   \n",
       "channel_title                                    Logan Paul Vlogs   \n",
       "category_id                                                    24   \n",
       "tags            logan paul vlog|logan paul|logan|paul|olympics...   \n",
       "views                                                     4394029   \n",
       "likes                                                      320053   \n",
       "dislikes                                                     5931   \n",
       "comment_total                                               46245   \n",
       "thumbnail_link     https://i.ytimg.com/vi/XpVt6Z1Gjjo/default.jpg   \n",
       "date                                                        13.09   \n",
       "\n",
       "                                                                1  \\\n",
       "video_id                                              K4wEI5zhHB0   \n",
       "title                     iPhone X — Introducing iPhone X — Apple   \n",
       "channel_title                                               Apple   \n",
       "category_id                                                    28   \n",
       "tags            Apple|iPhone 10|iPhone Ten|iPhone|Portrait Lig...   \n",
       "views                                                     7860119   \n",
       "likes                                                      185853   \n",
       "dislikes                                                    26679   \n",
       "comment_total                                                   0   \n",
       "thumbnail_link     https://i.ytimg.com/vi/K4wEI5zhHB0/default.jpg   \n",
       "date                                                        13.09   \n",
       "\n",
       "                                                             2  \n",
       "video_id                                           cLdxuaxaQwc  \n",
       "title                                              My Response  \n",
       "channel_title                                        PewDiePie  \n",
       "category_id                                                 22  \n",
       "tags                                                    [none]  \n",
       "views                                                  5845909  \n",
       "likes                                                   576597  \n",
       "dislikes                                                 39774  \n",
       "comment_total                                           170708  \n",
       "thumbnail_link  https://i.ytimg.com/vi/cLdxuaxaQwc/default.jpg  \n",
       "date                                                     13.09  "
      ]
     },
     "execution_count": 71,
     "metadata": {},
     "output_type": "execute_result"
    }
   ],
   "source": [
    "videos = spark.read.option('header', 'true').option(\"inferSchema\", \"true\").csv('datasets/USvideos.csv')\n",
    "# videos.show(3, False, True)\n",
    "videos.limit(3).toPandas().T"
   ]
  },
  {
   "cell_type": "code",
   "execution_count": 72,
   "id": "805005cc-0c92-45e3-ab79-44a348f9c2d3",
   "metadata": {},
   "outputs": [
    {
     "data": {
      "text/html": [
       "<div>\n",
       "<style scoped>\n",
       "    .dataframe tbody tr th:only-of-type {\n",
       "        vertical-align: middle;\n",
       "    }\n",
       "\n",
       "    .dataframe tbody tr th {\n",
       "        vertical-align: top;\n",
       "    }\n",
       "\n",
       "    .dataframe thead th {\n",
       "        text-align: right;\n",
       "    }\n",
       "</style>\n",
       "<table border=\"1\" class=\"dataframe\">\n",
       "  <thead>\n",
       "    <tr style=\"text-align: right;\">\n",
       "      <th></th>\n",
       "      <th>video_id</th>\n",
       "      <th>comment_text</th>\n",
       "      <th>likes</th>\n",
       "      <th>replies</th>\n",
       "    </tr>\n",
       "  </thead>\n",
       "  <tbody>\n",
       "    <tr>\n",
       "      <th>0</th>\n",
       "      <td>XpVt6Z1Gjjo</td>\n",
       "      <td>Logan Paul it's yo big day ‼️‼️‼️</td>\n",
       "      <td>4</td>\n",
       "      <td>0</td>\n",
       "    </tr>\n",
       "    <tr>\n",
       "      <th>1</th>\n",
       "      <td>XpVt6Z1Gjjo</td>\n",
       "      <td>I've been following you from the start of your...</td>\n",
       "      <td>3</td>\n",
       "      <td>0</td>\n",
       "    </tr>\n",
       "    <tr>\n",
       "      <th>2</th>\n",
       "      <td>XpVt6Z1Gjjo</td>\n",
       "      <td>Say hi to Kong and maverick for me</td>\n",
       "      <td>3</td>\n",
       "      <td>0</td>\n",
       "    </tr>\n",
       "  </tbody>\n",
       "</table>\n",
       "</div>"
      ],
      "text/plain": [
       "      video_id                                       comment_text  likes  \\\n",
       "0  XpVt6Z1Gjjo                  Logan Paul it's yo big day ‼️‼️‼️      4   \n",
       "1  XpVt6Z1Gjjo  I've been following you from the start of your...      3   \n",
       "2  XpVt6Z1Gjjo                 Say hi to Kong and maverick for me      3   \n",
       "\n",
       "   replies  \n",
       "0        0  \n",
       "1        0  \n",
       "2        0  "
      ]
     },
     "execution_count": 72,
     "metadata": {},
     "output_type": "execute_result"
    }
   ],
   "source": [
    "comments_schema = StructType([ \\\n",
    "    StructField(\"video_id\", StringType(), True), \\\n",
    "    StructField(\"comment_text\", StringType(), True), \\\n",
    "    StructField(\"likes\", IntegerType(), True), \\\n",
    "    StructField(\"replies\", IntegerType(), True)])\n",
    "comments = spark.read.option('header', 'true').option(\"mode\", \"DROPMALFORMED\").schema(comments_schema).csv('datasets/UScomments.csv')\n",
    "(comments\n",
    " # .where(\"likes < 0\")\n",
    " .limit(3).toPandas()\n",
    ")"
   ]
  },
  {
   "cell_type": "markdown",
   "id": "f94c2c54-c12e-4c72-9208-90335cf00972",
   "metadata": {},
   "source": [
    "1 scored_videos - датасет на USvideos.csv\n",
    " - с добавлением колонки, содержащей скор (показатель качества) видео: ФОРМУЛА должна включать в себя\n",
    "     - просмотры,\n",
    "     - лайки,дизлайки видео,\n",
    "     - лайки и дизлайки к комментариям к видео\n",
    "       \n",
    "2 categories_score - по категориям, в котором поля: \n",
    " - Название категории (не id) -  в US_category_id.json\n",
    " - Медиана показателя score из scored_videos по каждой категории\n",
    "\n",
    "3 popular_tags - по самым популярным тэгам\n",
    "  - название тэга + количество видео с этим тэгом\n",
    "    ! тэги лежат строкой в поле tags\n",
    "      - Scala-функцию для разбиения тегов: \n",
    "        - Но напишите свою UDF-функцию разбиения строки на тэги\n",
    "        - и сравните время работы с её Scala-версией.\n",
    "          - Можно замерять своими силами,\n",
    "            - а можно воспользоваться библиотекой timeit\n",
    "            - функции Spark из пакета pyspark.sq.functions использовать нельзя,\n",
    "              - нужно написать свою функцию."
   ]
  },
  {
   "cell_type": "code",
   "execution_count": 73,
   "id": "1f0c81cd-82b6-4148-917f-7a45c4b44f9c",
   "metadata": {},
   "outputs": [
    {
     "data": {
      "text/html": [
       "<div>\n",
       "<style scoped>\n",
       "    .dataframe tbody tr th:only-of-type {\n",
       "        vertical-align: middle;\n",
       "    }\n",
       "\n",
       "    .dataframe tbody tr th {\n",
       "        vertical-align: top;\n",
       "    }\n",
       "\n",
       "    .dataframe thead th {\n",
       "        text-align: right;\n",
       "    }\n",
       "</style>\n",
       "<table border=\"1\" class=\"dataframe\">\n",
       "  <thead>\n",
       "    <tr style=\"text-align: right;\">\n",
       "      <th></th>\n",
       "      <th>0</th>\n",
       "      <th>1</th>\n",
       "      <th>2</th>\n",
       "    </tr>\n",
       "  </thead>\n",
       "  <tbody>\n",
       "    <tr>\n",
       "      <th>video_id</th>\n",
       "      <td>XpVt6Z1Gjjo</td>\n",
       "      <td>K4wEI5zhHB0</td>\n",
       "      <td>cLdxuaxaQwc</td>\n",
       "    </tr>\n",
       "    <tr>\n",
       "      <th>title</th>\n",
       "      <td>1 YEAR OF VLOGGING -- HOW LOGAN PAUL CHANGED Y...</td>\n",
       "      <td>iPhone X — Introducing iPhone X — Apple</td>\n",
       "      <td>My Response</td>\n",
       "    </tr>\n",
       "    <tr>\n",
       "      <th>channel_title</th>\n",
       "      <td>Logan Paul Vlogs</td>\n",
       "      <td>Apple</td>\n",
       "      <td>PewDiePie</td>\n",
       "    </tr>\n",
       "    <tr>\n",
       "      <th>category_id</th>\n",
       "      <td>24</td>\n",
       "      <td>28</td>\n",
       "      <td>22</td>\n",
       "    </tr>\n",
       "    <tr>\n",
       "      <th>tags</th>\n",
       "      <td>logan paul vlog|logan paul|logan|paul|olympics...</td>\n",
       "      <td>Apple|iPhone 10|iPhone Ten|iPhone|Portrait Lig...</td>\n",
       "      <td>[none]</td>\n",
       "    </tr>\n",
       "    <tr>\n",
       "      <th>views</th>\n",
       "      <td>4394029</td>\n",
       "      <td>7860119</td>\n",
       "      <td>5845909</td>\n",
       "    </tr>\n",
       "    <tr>\n",
       "      <th>likes</th>\n",
       "      <td>320053</td>\n",
       "      <td>185853</td>\n",
       "      <td>576597</td>\n",
       "    </tr>\n",
       "    <tr>\n",
       "      <th>dislikes</th>\n",
       "      <td>5931</td>\n",
       "      <td>26679</td>\n",
       "      <td>39774</td>\n",
       "    </tr>\n",
       "    <tr>\n",
       "      <th>comment_total</th>\n",
       "      <td>46245</td>\n",
       "      <td>0</td>\n",
       "      <td>170708</td>\n",
       "    </tr>\n",
       "    <tr>\n",
       "      <th>thumbnail_link</th>\n",
       "      <td>https://i.ytimg.com/vi/XpVt6Z1Gjjo/default.jpg</td>\n",
       "      <td>https://i.ytimg.com/vi/K4wEI5zhHB0/default.jpg</td>\n",
       "      <td>https://i.ytimg.com/vi/cLdxuaxaQwc/default.jpg</td>\n",
       "    </tr>\n",
       "    <tr>\n",
       "      <th>date</th>\n",
       "      <td>13.09</td>\n",
       "      <td>13.09</td>\n",
       "      <td>13.09</td>\n",
       "    </tr>\n",
       "  </tbody>\n",
       "</table>\n",
       "</div>"
      ],
      "text/plain": [
       "                                                                0  \\\n",
       "video_id                                              XpVt6Z1Gjjo   \n",
       "title           1 YEAR OF VLOGGING -- HOW LOGAN PAUL CHANGED Y...   \n",
       "channel_title                                    Logan Paul Vlogs   \n",
       "category_id                                                    24   \n",
       "tags            logan paul vlog|logan paul|logan|paul|olympics...   \n",
       "views                                                     4394029   \n",
       "likes                                                      320053   \n",
       "dislikes                                                     5931   \n",
       "comment_total                                               46245   \n",
       "thumbnail_link     https://i.ytimg.com/vi/XpVt6Z1Gjjo/default.jpg   \n",
       "date                                                        13.09   \n",
       "\n",
       "                                                                1  \\\n",
       "video_id                                              K4wEI5zhHB0   \n",
       "title                     iPhone X — Introducing iPhone X — Apple   \n",
       "channel_title                                               Apple   \n",
       "category_id                                                    28   \n",
       "tags            Apple|iPhone 10|iPhone Ten|iPhone|Portrait Lig...   \n",
       "views                                                     7860119   \n",
       "likes                                                      185853   \n",
       "dislikes                                                    26679   \n",
       "comment_total                                                   0   \n",
       "thumbnail_link     https://i.ytimg.com/vi/K4wEI5zhHB0/default.jpg   \n",
       "date                                                        13.09   \n",
       "\n",
       "                                                             2  \n",
       "video_id                                           cLdxuaxaQwc  \n",
       "title                                              My Response  \n",
       "channel_title                                        PewDiePie  \n",
       "category_id                                                 22  \n",
       "tags                                                    [none]  \n",
       "views                                                  5845909  \n",
       "likes                                                   576597  \n",
       "dislikes                                                 39774  \n",
       "comment_total                                           170708  \n",
       "thumbnail_link  https://i.ytimg.com/vi/cLdxuaxaQwc/default.jpg  \n",
       "date                                                     13.09  "
      ]
     },
     "execution_count": 73,
     "metadata": {},
     "output_type": "execute_result"
    }
   ],
   "source": [
    "videos.limit(3).toPandas().T"
   ]
  },
  {
   "cell_type": "code",
   "execution_count": 74,
   "id": "07a8aefa-d965-4318-893d-deea06ef9755",
   "metadata": {},
   "outputs": [
    {
     "name": "stdout",
     "output_type": "stream",
     "text": [
      "root\n",
      " |-- video_id: string (nullable = true)\n",
      " |-- title: string (nullable = true)\n",
      " |-- channel_title: string (nullable = true)\n",
      " |-- category_id: integer (nullable = true)\n",
      " |-- tags: string (nullable = true)\n",
      " |-- views: integer (nullable = true)\n",
      " |-- likes: integer (nullable = true)\n",
      " |-- dislikes: integer (nullable = true)\n",
      " |-- comment_total: integer (nullable = true)\n",
      " |-- thumbnail_link: string (nullable = true)\n",
      " |-- date: string (nullable = true)\n",
      "\n",
      "root\n",
      " |-- video_id: string (nullable = true)\n",
      " |-- comment_text: string (nullable = true)\n",
      " |-- likes: integer (nullable = true)\n",
      " |-- replies: integer (nullable = true)\n",
      "\n"
     ]
    },
    {
     "data": {
      "text/html": [
       "<div>\n",
       "<style scoped>\n",
       "    .dataframe tbody tr th:only-of-type {\n",
       "        vertical-align: middle;\n",
       "    }\n",
       "\n",
       "    .dataframe tbody tr th {\n",
       "        vertical-align: top;\n",
       "    }\n",
       "\n",
       "    .dataframe thead th {\n",
       "        text-align: right;\n",
       "    }\n",
       "</style>\n",
       "<table border=\"1\" class=\"dataframe\">\n",
       "  <thead>\n",
       "    <tr style=\"text-align: right;\">\n",
       "      <th></th>\n",
       "      <th>video_id</th>\n",
       "      <th>comment_text</th>\n",
       "      <th>likes</th>\n",
       "      <th>replies</th>\n",
       "    </tr>\n",
       "  </thead>\n",
       "  <tbody>\n",
       "    <tr>\n",
       "      <th>0</th>\n",
       "      <td>XpVt6Z1Gjjo</td>\n",
       "      <td>Logan Paul it's yo big day ‼️‼️‼️</td>\n",
       "      <td>4</td>\n",
       "      <td>0</td>\n",
       "    </tr>\n",
       "    <tr>\n",
       "      <th>1</th>\n",
       "      <td>XpVt6Z1Gjjo</td>\n",
       "      <td>I've been following you from the start of your...</td>\n",
       "      <td>3</td>\n",
       "      <td>0</td>\n",
       "    </tr>\n",
       "    <tr>\n",
       "      <th>2</th>\n",
       "      <td>XpVt6Z1Gjjo</td>\n",
       "      <td>Say hi to Kong and maverick for me</td>\n",
       "      <td>3</td>\n",
       "      <td>0</td>\n",
       "    </tr>\n",
       "  </tbody>\n",
       "</table>\n",
       "</div>"
      ],
      "text/plain": [
       "      video_id                                       comment_text  likes  \\\n",
       "0  XpVt6Z1Gjjo                  Logan Paul it's yo big day ‼️‼️‼️      4   \n",
       "1  XpVt6Z1Gjjo  I've been following you from the start of your...      3   \n",
       "2  XpVt6Z1Gjjo                 Say hi to Kong and maverick for me      3   \n",
       "\n",
       "   replies  \n",
       "0        0  \n",
       "1        0  \n",
       "2        0  "
      ]
     },
     "execution_count": 74,
     "metadata": {},
     "output_type": "execute_result"
    }
   ],
   "source": [
    "videos.printSchema()\n",
    "comments.printSchema()\n",
    "comments.limit(3).toPandas()"
   ]
  },
  {
   "cell_type": "code",
   "execution_count": 75,
   "id": "9fc0d78b-8c9c-49dc-ab05-b8fa4ddb349d",
   "metadata": {},
   "outputs": [
    {
     "data": {
      "text/plain": [
       "\u001b[0;31mSignature:\u001b[0m \u001b[0mcoalesce\u001b[0m\u001b[0;34m(\u001b[0m\u001b[0;34m*\u001b[0m\u001b[0mcols\u001b[0m\u001b[0;34m:\u001b[0m \u001b[0;34m'ColumnOrName'\u001b[0m\u001b[0;34m)\u001b[0m \u001b[0;34m->\u001b[0m \u001b[0mpyspark\u001b[0m\u001b[0;34m.\u001b[0m\u001b[0msql\u001b[0m\u001b[0;34m.\u001b[0m\u001b[0mcolumn\u001b[0m\u001b[0;34m.\u001b[0m\u001b[0mColumn\u001b[0m\u001b[0;34m\u001b[0m\u001b[0;34m\u001b[0m\u001b[0m\n",
       "\u001b[0;31mSource:\u001b[0m   \n",
       "\u001b[0;34m@\u001b[0m\u001b[0mtry_remote_functions\u001b[0m\u001b[0;34m\u001b[0m\n",
       "\u001b[0;34m\u001b[0m\u001b[0;32mdef\u001b[0m \u001b[0mcoalesce\u001b[0m\u001b[0;34m(\u001b[0m\u001b[0;34m*\u001b[0m\u001b[0mcols\u001b[0m\u001b[0;34m:\u001b[0m \u001b[0;34m\"ColumnOrName\"\u001b[0m\u001b[0;34m)\u001b[0m \u001b[0;34m->\u001b[0m \u001b[0mColumn\u001b[0m\u001b[0;34m:\u001b[0m\u001b[0;34m\u001b[0m\n",
       "\u001b[0;34m\u001b[0m    \u001b[0;34m\"\"\"Returns the first column that is not null.\u001b[0m\n",
       "\u001b[0;34m\u001b[0m\n",
       "\u001b[0;34m    .. versionadded:: 1.4.0\u001b[0m\n",
       "\u001b[0;34m\u001b[0m\n",
       "\u001b[0;34m    .. versionchanged:: 3.4.0\u001b[0m\n",
       "\u001b[0;34m        Supports Spark Connect.\u001b[0m\n",
       "\u001b[0;34m\u001b[0m\n",
       "\u001b[0;34m    Parameters\u001b[0m\n",
       "\u001b[0;34m    ----------\u001b[0m\n",
       "\u001b[0;34m    cols : :class:`~pyspark.sql.Column` or str\u001b[0m\n",
       "\u001b[0;34m        list of columns to work on.\u001b[0m\n",
       "\u001b[0;34m\u001b[0m\n",
       "\u001b[0;34m    Returns\u001b[0m\n",
       "\u001b[0;34m    -------\u001b[0m\n",
       "\u001b[0;34m    :class:`~pyspark.sql.Column`\u001b[0m\n",
       "\u001b[0;34m        value of the first column that is not null.\u001b[0m\n",
       "\u001b[0;34m\u001b[0m\n",
       "\u001b[0;34m    Examples\u001b[0m\n",
       "\u001b[0;34m    --------\u001b[0m\n",
       "\u001b[0;34m    >>> cDf = spark.createDataFrame([(None, None), (1, None), (None, 2)], (\"a\", \"b\"))\u001b[0m\n",
       "\u001b[0;34m    >>> cDf.show()\u001b[0m\n",
       "\u001b[0;34m    +----+----+\u001b[0m\n",
       "\u001b[0;34m    |   a|   b|\u001b[0m\n",
       "\u001b[0;34m    +----+----+\u001b[0m\n",
       "\u001b[0;34m    |null|null|\u001b[0m\n",
       "\u001b[0;34m    |   1|null|\u001b[0m\n",
       "\u001b[0;34m    |null|   2|\u001b[0m\n",
       "\u001b[0;34m    +----+----+\u001b[0m\n",
       "\u001b[0;34m\u001b[0m\n",
       "\u001b[0;34m    >>> cDf.select(coalesce(cDf[\"a\"], cDf[\"b\"])).show()\u001b[0m\n",
       "\u001b[0;34m    +--------------+\u001b[0m\n",
       "\u001b[0;34m    |coalesce(a, b)|\u001b[0m\n",
       "\u001b[0;34m    +--------------+\u001b[0m\n",
       "\u001b[0;34m    |          null|\u001b[0m\n",
       "\u001b[0;34m    |             1|\u001b[0m\n",
       "\u001b[0;34m    |             2|\u001b[0m\n",
       "\u001b[0;34m    +--------------+\u001b[0m\n",
       "\u001b[0;34m\u001b[0m\n",
       "\u001b[0;34m    >>> cDf.select('*', coalesce(cDf[\"a\"], lit(0.0))).show()\u001b[0m\n",
       "\u001b[0;34m    +----+----+----------------+\u001b[0m\n",
       "\u001b[0;34m    |   a|   b|coalesce(a, 0.0)|\u001b[0m\n",
       "\u001b[0;34m    +----+----+----------------+\u001b[0m\n",
       "\u001b[0;34m    |null|null|             0.0|\u001b[0m\n",
       "\u001b[0;34m    |   1|null|             1.0|\u001b[0m\n",
       "\u001b[0;34m    |null|   2|             0.0|\u001b[0m\n",
       "\u001b[0;34m    +----+----+----------------+\u001b[0m\n",
       "\u001b[0;34m    \"\"\"\u001b[0m\u001b[0;34m\u001b[0m\n",
       "\u001b[0;34m\u001b[0m    \u001b[0;32mreturn\u001b[0m \u001b[0m_invoke_function_over_seq_of_columns\u001b[0m\u001b[0;34m(\u001b[0m\u001b[0;34m\"coalesce\"\u001b[0m\u001b[0;34m,\u001b[0m \u001b[0mcols\u001b[0m\u001b[0;34m)\u001b[0m\u001b[0;34m\u001b[0m\u001b[0;34m\u001b[0m\u001b[0m\n",
       "\u001b[0;31mFile:\u001b[0m      /usr/local/spark/python/pyspark/sql/functions.py\n",
       "\u001b[0;31mType:\u001b[0m      function"
      ]
     },
     "metadata": {},
     "output_type": "display_data"
    }
   ],
   "source": [
    "coalesce??"
   ]
  },
  {
   "cell_type": "code",
   "execution_count": 76,
   "id": "d7fa8c3c-3922-46cc-943e-bc68a8b16048",
   "metadata": {},
   "outputs": [
    {
     "name": "stdout",
     "output_type": "stream",
     "text": [
      "+-----------+-----+-----+--------+-----------+------+-------+\n",
      "|video_id   |views|likes|dislikes|category_id|tags  |likes_c|\n",
      "+-----------+-----+-----+--------+-----------+------+-------+\n",
      "|4yCkkOvIkUI|2306 |7    |1       |24         |[none]|5      |\n",
      "|4yCkkOvIkUI|2306 |7    |1       |24         |[none]|3      |\n",
      "|4yCkkOvIkUI|2306 |7    |1       |24         |[none]|6      |\n",
      "+-----------+-----+-----+--------+-----------+------+-------+\n",
      "only showing top 3 rows\n",
      "\n"
     ]
    }
   ],
   "source": [
    "# 1 scored_videos - датасет на USvideos.csv\n",
    "#  - с добавлением колонки, содержащей скор (показатель качества) видео:\n",
    "#    - ФОРМУЛА должна включать в себя\n",
    "#      - просмотры,\n",
    "#      - лайки, дизлайки видео,\n",
    "#      - лайки и дизлайки к комментариям к видео\n",
    "from pyspark.sql.functions import *\n",
    "videos_s = (\n",
    "    videos.select('video_id', 'views', 'likes', 'dislikes', 'category_id', 'tags')\n",
    "          .join(comments\n",
    "                .select('video_id', col('likes').alias('likes_c'),  # col('dislikes').alias('dislikes_c')  - не нашёл 🤔\n",
    "                ),\n",
    "                on='video_id', how='left'\n",
    "            )\n",
    "          .select('video_id', 'views', 'likes', 'dislikes', 'category_id', 'tags', coalesce(col('likes_c'), lit(0)).alias('likes_c'))\n",
    ")\n",
    "videos_s.cache().show(3, False)"
   ]
  },
  {
   "cell_type": "code",
   "execution_count": 77,
   "id": "6756a39e-a31c-4baa-a621-e2be2bfc4974",
   "metadata": {},
   "outputs": [
    {
     "name": "stdout",
     "output_type": "stream",
     "text": [
      "+-----------+------+------+--------+-----------+--------------------------------+-------+------------------+\n",
      "|video_id   |views |likes |dislikes|category_id|tags                            |likes_c|score             |\n",
      "+-----------+------+------+--------+-----------+--------------------------------+-------+------------------+\n",
      "|EUoe7cf0HYw|497846|160690|5323    |10         |Taylor Swift|Gorgeous|reputation|26     |0.3121306588784484|\n",
      "|EUoe7cf0HYw|497846|160690|5323    |10         |Taylor Swift|Gorgeous|reputation|7      |0.3120924944661602|\n",
      "|EUoe7cf0HYw|497846|160690|5323    |10         |Taylor Swift|Gorgeous|reputation|7      |0.3120924944661602|\n",
      "|EUoe7cf0HYw|497846|160690|5323    |10         |Taylor Swift|Gorgeous|reputation|6      |0.3120904858128819|\n",
      "|EUoe7cf0HYw|497846|160690|5323    |10         |Taylor Swift|Gorgeous|reputation|5      |0.3120884771596036|\n",
      "+-----------+------+------+--------+-----------+--------------------------------+-------+------------------+\n",
      "only showing top 5 rows\n",
      "\n",
      "+-----------+-------+-----+--------+-----------+-----------------------------------------------------------------------+-------+--------------------+\n",
      "|video_id   |views  |likes|dislikes|category_id|tags                                                                   |likes_c|score               |\n",
      "+-----------+-------+-----+--------+-----------+-----------------------------------------------------------------------+-------+--------------------+\n",
      "|tUPR5-igTVY|1267050|0    |0       |22         |dear hate|charity|las vegas charity|las vegas donation|music city cares|1      |7.892348368256975E-7|\n",
      "|tUPR5-igTVY|1267050|0    |0       |22         |dear hate|charity|las vegas charity|las vegas donation|music city cares|1      |7.892348368256975E-7|\n",
      "|tUPR5-igTVY|1267050|0    |0       |22         |dear hate|charity|las vegas charity|las vegas donation|music city cares|1      |7.892348368256975E-7|\n",
      "|tUPR5-igTVY|1267050|0    |0       |22         |dear hate|charity|las vegas charity|las vegas donation|music city cares|1      |7.892348368256975E-7|\n",
      "|tUPR5-igTVY|1267050|0    |0       |22         |dear hate|charity|las vegas charity|las vegas donation|music city cares|1      |7.892348368256975E-7|\n",
      "+-----------+-------+-----+--------+-----------+-----------------------------------------------------------------------+-------+--------------------+\n",
      "only showing top 5 rows\n",
      "\n"
     ]
    },
    {
     "data": {
      "text/plain": [
       "2945294"
      ]
     },
     "execution_count": 77,
     "metadata": {},
     "output_type": "execute_result"
    }
   ],
   "source": [
    "# 1) score = (likes - dislikes + likes-comments) / views \n",
    "scored_videos = videos_s.withColumn('score', (col('likes') - col('dislikes') + col('likes_c')) / col('views'))\n",
    "scored_videos.orderBy(desc('score')).cache().show(5, False)\n",
    "scored_videos.where('score > 0').orderBy(asc('score')).cache().show(5, False)\n",
    "scored_videos.cache().count()"
   ]
  },
  {
   "cell_type": "code",
   "execution_count": 78,
   "id": "3b9adbfc-da4e-437b-af20-c58bc41e2a1a",
   "metadata": {},
   "outputs": [
    {
     "name": "stdout",
     "output_type": "stream",
     "text": [
      "{\n",
      " \"kind\": \"youtube#videoCategoryListResponse\",\n",
      " \"etag\": \"\\\"m2yskBQFythfE4irbTIeOgYYfBU/S730Ilt-Fi-emsQJvJAAShlR6hM\\\"\",\n",
      " \"items\": [\n",
      "  {\n",
      "   \"kind\": \"youtube#videoCategory\",\n",
      "   \"etag\": \"\\\"m2yskBQFythfE4irbTIeOgYYfBU/Xy1mB4_yLrHy_BmKmPBggty2mZQ\\\"\",\n",
      "   \"id\": \"1\",\n",
      "   \"snippet\": {\n",
      "    \"channelId\": \"UCBR8-60-B28hp2BmDPdntcQ\",\n",
      "    \"title\": \"Film & Animation\",\n",
      "    \"assignable\": true\n",
      "   }\n",
      "  },\n",
      "  {\n",
      "   \"kind\": \"youtube#videoCategory\",\n",
      "   \"etag\": \"\\\"m2yskBQFythfE4irbTIeOgYYfBU/UZ1oLIIz2dxIhO45ZTFR3a3NyTA\\\"\",\n",
      "   \"id\": \"2\",\n",
      "   \"snippet\": {\n",
      "    \"channelId\": \"UCBR8-60-B28hp2BmDPdntcQ\",\n",
      "    \"title\": \"Autos & Vehicles\",\n",
      "    \"assignable\": true\n",
      "...\n"
     ]
    }
   ],
   "source": [
    "# Research file with categories:..\n",
    "!head -n 22 datasets/US_category_id.json\n",
    "!echo ..."
   ]
  },
  {
   "cell_type": "markdown",
   "id": "73ff874c-05bd-4de3-a270-696f46c4e92c",
   "metadata": {},
   "source": [
    "### мда... тут без помощи Друзя\" никак 😅🤓"
   ]
  },
  {
   "cell_type": "markdown",
   "id": "7856beca-f00b-4259-af95-9035e5a21cbc",
   "metadata": {},
   "source": [
    "#### https://chat.openai.com/c/fac3b2e7-81c4-4ef5-9cdd-120a459b0fcf\n",
    "how to exctract to spark dataframe with 2 cols:\n",
    "- category_id – from path: \"items\".\"id\" where \"kind\" = \"youtube#videoCategory\"\n",
    "- category_name – from path: \"items\".\"snippet\".\"title\" for category_id\n",
    "\n",
    "from this file:\n",
    "{ \"kind\": \"youtube#videoCategoryListResponse\",\n",
    " \"etag\": \"\\\"m2yskBQFythfE4irbTIeOgYYfBU/S730Ilt-Fi-emsQJvJAAShlR6hM\\\"\",.."
   ]
  },
  {
   "cell_type": "code",
   "execution_count": 79,
   "id": "afda89ee-d4cd-43a4-a5d2-129d8624f6c9",
   "metadata": {},
   "outputs": [
    {
     "name": "stdout",
     "output_type": "stream",
     "text": [
      "+-----------+----------------+\n",
      "|category_id|category_name   |\n",
      "+-----------+----------------+\n",
      "|1          |Film & Animation|\n",
      "|2          |Autos & Vehicles|\n",
      "|10         |Music           |\n",
      "|15         |Pets & Animals  |\n",
      "|17         |Sports          |\n",
      "+-----------+----------------+\n",
      "only showing top 5 rows\n",
      "\n"
     ]
    }
   ],
   "source": [
    "# 2) read categories from json\n",
    "df = spark.read.option(\"multiline\", \"true\").json(\"datasets/US_category_id.json\")\n",
    "\n",
    "df_exploded = df.select(explode(df.items).alias(\"item\"))\n",
    "\n",
    "categories_df = df_exploded.select(\n",
    "    df_exploded[\"item.id\"].alias(\"category_id\"),\n",
    "    df_exploded[\"item.snippet.title\"].alias(\"category_name\")\n",
    ")\n",
    "\n",
    "categories_df = categories_df.filter(df_exploded[\"item.kind\"] == \"youtube#videoCategory\")\n",
    "\n",
    "categories_df.cache().show(5, False)"
   ]
  },
  {
   "cell_type": "code",
   "execution_count": 80,
   "id": "c33507ae-2c75-47b5-a84d-a94e1214eff0",
   "metadata": {},
   "outputs": [
    {
     "name": "stdout",
     "output_type": "stream",
     "text": [
      "+---------------------+--------------------+\n",
      "|category_name        |median_score        |\n",
      "+---------------------+--------------------+\n",
      "|Shows                |0.012471243491948178|\n",
      "|Education            |0.03368260385297636 |\n",
      "|Gaming               |0.0178513790118479  |\n",
      "|Entertainment        |0.024058260052228886|\n",
      "|Travel & Events      |0.02688961421740934 |\n",
      "|Science & Technology |0.02789074214986546 |\n",
      "|Sports               |0.010208639060805207|\n",
      "|Howto & Style        |0.048267083261007926|\n",
      "|Nonprofits & Activism|0.00800941219059686 |\n",
      "|Film & Animation     |0.022790679555816682|\n",
      "|People & Blogs       |0.03503300560376566 |\n",
      "+---------------------+--------------------+\n",
      "only showing top 11 rows\n",
      "\n"
     ]
    }
   ],
   "source": [
    "# 2) categories_score - по категориям, в котором поля: \n",
    "#  - Название категории (не id) -  в US_category_id.json\n",
    "#  - Медиана показателя score из scored_videos по каждой категории\n",
    "\n",
    "# Join scored_videos and categories_df on category_id\n",
    "##videos_with_categories = scored_videos.join(categories_df, scored_videos.category_id == categories_df.category_id)\n",
    "videos_with_categories = scored_videos.join(categories_df, on='category_id', how='left')\n",
    "\n",
    "# Compute median score\n",
    "median_scores = videos_with_categories.groupby(\"category_name\").agg(\n",
    "    expr('percentile_approx(score, 0.5)').alias('median_score')\n",
    ")\n",
    "\n",
    "median_scores.cache().show(11, False)"
   ]
  },
  {
   "cell_type": "code",
   "execution_count": 81,
   "id": "aa278208-36a4-446b-b361-2dc6eb2a8fef",
   "metadata": {},
   "outputs": [
    {
     "name": "stdout",
     "output_type": "stream",
     "text": [
      "+-----------+-----------+-----+-----+--------+--------------------------------------------+-------+--------------------+--------------------+\n",
      "|category_id|   video_id|views|likes|dislikes|                                        tags|likes_c|               score|       category_name|\n",
      "+-----------+-----------+-----+-----+--------+--------------------------------------------+-------+--------------------+--------------------+\n",
      "|         28|CAQ2wWVlOuc|25541|  510|      94|Tech Insider|TI|Tech|Science|Innovation|D...|    278| 0.02717199796405779|Science & Technology|\n",
      "|         28|CAQ2wWVlOuc|25541|  510|      94|Tech Insider|TI|Tech|Science|Innovation|D...|    144|0.021925531498375162|Science & Technology|\n",
      "|         28|CAQ2wWVlOuc|25541|  510|      94|Tech Insider|TI|Tech|Science|Innovation|D...|     83| 0.01953721467444501|Science & Technology|\n",
      "|         28|CAQ2wWVlOuc|25541|  510|      94|Tech Insider|TI|Tech|Science|Innovation|D...|    133|0.021494851415371365|Science & Technology|\n",
      "|         28|CAQ2wWVlOuc|25541|  510|      94|Tech Insider|TI|Tech|Science|Innovation|D...|     54|0.018401785364707726|Science & Technology|\n",
      "+-----------+-----------+-----+-----+--------+--------------------------------------------+-------+--------------------+--------------------+\n",
      "only showing top 5 rows\n",
      "\n"
     ]
    }
   ],
   "source": [
    "videos_df = videos_with_categories\n",
    "videos_df.show(5, 44)"
   ]
  },
  {
   "cell_type": "code",
   "execution_count": 82,
   "id": "d19cada4-f924-43f9-b0b6-0f81082cbba3",
   "metadata": {},
   "outputs": [
    {
     "name": "stdout",
     "output_type": "stream",
     "text": [
      "root\n",
      " |-- category_id: integer (nullable = true)\n",
      " |-- video_id: string (nullable = true)\n",
      " |-- views: integer (nullable = true)\n",
      " |-- likes: integer (nullable = true)\n",
      " |-- dislikes: integer (nullable = true)\n",
      " |-- tags: string (nullable = true)\n",
      " |-- likes_c: integer (nullable = false)\n",
      " |-- score: double (nullable = true)\n",
      " |-- category_name: string (nullable = true)\n",
      "\n"
     ]
    }
   ],
   "source": [
    "# spark.sql('drop table scored_videos')\n",
    "videos_df.printSchema()"
   ]
  },
  {
   "cell_type": "code",
   "execution_count": 83,
   "id": "5b236156-61a7-44ae-8b6b-74c6bbca0e8a",
   "metadata": {},
   "outputs": [
    {
     "data": {
      "text/plain": [
       "\u001b[0;31mSignature:\u001b[0m \u001b[0mget_videos_df\u001b[0m\u001b[0;34m(\u001b[0m\u001b[0;34m)\u001b[0m\u001b[0;34m\u001b[0m\u001b[0;34m\u001b[0m\u001b[0m\n",
       "\u001b[0;31mDocstring:\u001b[0m <no docstring>\n",
       "\u001b[0;31mSource:\u001b[0m   \n",
       "\u001b[0;32mdef\u001b[0m \u001b[0mget_videos_df\u001b[0m\u001b[0;34m(\u001b[0m\u001b[0;34m)\u001b[0m\u001b[0;34m:\u001b[0m\u001b[0;34m\u001b[0m\n",
       "\u001b[0;34m\u001b[0m    \u001b[0mvideos_df\u001b[0m \u001b[0;34m=\u001b[0m \u001b[0mspark\u001b[0m\u001b[0;34m.\u001b[0m\u001b[0mread\u001b[0m\u001b[0;34m.\u001b[0m\u001b[0mparquet\u001b[0m\u001b[0;34m(\u001b[0m\u001b[0;34m'spark-warehouse/videos'\u001b[0m\u001b[0;34m)\u001b[0m\u001b[0;34m\u001b[0m\n",
       "\u001b[0;34m\u001b[0m    \u001b[0mvideos_df\u001b[0m\u001b[0;34m.\u001b[0m\u001b[0mcache\u001b[0m\u001b[0;34m(\u001b[0m\u001b[0;34m)\u001b[0m\u001b[0;34m.\u001b[0m\u001b[0mcount\u001b[0m\u001b[0;34m(\u001b[0m\u001b[0;34m)\u001b[0m\u001b[0;34m,\u001b[0m \\\n",
       "    \u001b[0mvideos_df\u001b[0m\u001b[0;34m.\u001b[0m\u001b[0mshow\u001b[0m\u001b[0;34m(\u001b[0m\u001b[0;36m5\u001b[0m\u001b[0;34m,\u001b[0m \u001b[0;36m55\u001b[0m\u001b[0;34m)\u001b[0m\u001b[0;34m\u001b[0m\n",
       "\u001b[0;34m\u001b[0m    \u001b[0;32mreturn\u001b[0m \u001b[0mvideos_df\u001b[0m\u001b[0;34m\u001b[0m\u001b[0;34m\u001b[0m\u001b[0m\n",
       "\u001b[0;31mFile:\u001b[0m      /tmp/ipykernel_24031/4189858458.py\n",
       "\u001b[0;31mType:\u001b[0m      function"
      ]
     },
     "metadata": {},
     "output_type": "display_data"
    }
   ],
   "source": [
    "get_videos_df??"
   ]
  },
  {
   "cell_type": "code",
   "execution_count": 84,
   "id": "4b287dc2-ae97-4728-ae6f-b053409d0b84",
   "metadata": {},
   "outputs": [
    {
     "name": "stdout",
     "output_type": "stream",
     "text": [
      "+-----------+-----------+-----+-----+--------+------+-------+---------------------+-------------+\n",
      "|category_id|   video_id|views|likes|dislikes|  tags|likes_c|                score|category_name|\n",
      "+-----------+-----------+-----+-----+--------+------+-------+---------------------+-------------+\n",
      "|         24|4yCkkOvIkUI| 2306|    7|       1|[none]|      5| 0.004770164787510842|Entertainment|\n",
      "|         24|4yCkkOvIkUI| 2306|    7|       1|[none]|      3|0.0039028620988725065|Entertainment|\n",
      "|         24|4yCkkOvIkUI| 2306|    7|       1|[none]|      6| 0.005203816131830009|Entertainment|\n",
      "|         24|4yCkkOvIkUI| 2306|    7|       1|[none]|      0|0.0026019080659150044|Entertainment|\n",
      "|         24|4yCkkOvIkUI| 2306|    7|       1|[none]|      0|0.0026019080659150044|Entertainment|\n",
      "+-----------+-----------+-----+-----+--------+------+-------+---------------------+-------------+\n",
      "only showing top 5 rows\n",
      "\n"
     ]
    },
    {
     "data": {
      "text/plain": [
       "(2945294, None)"
      ]
     },
     "execution_count": 84,
     "metadata": {},
     "output_type": "execute_result"
    }
   ],
   "source": [
    "## videos_df.write.saveAsTable('videos', partitionBy='category_name', mode='overwrite')\n",
    "\n",
    "##\n",
    "# videos_df = get_videos_df()\n",
    "# spark.sql('drop table videos')\n",
    "\n",
    "!rm -r spark-warehouse/videos\n",
    "\n",
    "videos_df.write.saveAsTable('videos', partitionBy='category_name') #, mode='overwrite')\n",
    "videos_df = spark.table('videos')\n",
    "videos_df.cache().count(), \\\n",
    "videos_df.show(5, 55)"
   ]
  },
  {
   "cell_type": "code",
   "execution_count": 85,
   "id": "fd865e72-487b-4a4c-bbc6-482762e014f6",
   "metadata": {},
   "outputs": [],
   "source": [
    "# 3) popular_tags - по самым популярным тэгам\n",
    "  # - название тэга + количество видео с этим тэгом\n",
    "  #   ! тэги лежат строкой в поле tags\n",
    "  #     - Scala-функцию для разбиения тегов: \n",
    "  #       - Но напишите свою UDF-функцию разбиения строки на тэги\n",
    "  #       - и сравните время работы с её Scala-версией.\n",
    "  #         - Можно замерять своими силами,\n",
    "  #           - а можно воспользоваться библиотекой timeit\n",
    "  #           - функции Spark из пакета pyspark.sq.functions использовать нельзя,\n",
    "  #             - нужно написать свою функцию."
   ]
  },
  {
   "cell_type": "code",
   "execution_count": 88,
   "id": "3c81d423-7888-448f-b831-99fa2c089a2b",
   "metadata": {},
   "outputs": [
    {
     "name": "stderr",
     "output_type": "stream",
     "text": [
      "Traceback (most recent call last):\n",
      "  File \"/tmp/ipykernel_24031/3166177611.py\", line 3, in <module>\n",
      "    df = spark.sql(f\"\"\"\n",
      "         ^^^^^^^^^^^^^^\n",
      "  File \"/usr/local/spark/python/pyspark/sql/session.py\", line 1440, in sql\n",
      "    return DataFrame(self._jsparkSession.sql(sqlQuery, litArgs), self)\n",
      "                     ^^^^^^^^^^^^^^^^^^^^^^^^^^^^^^^^^^^^^^^^^^\n",
      "  File \"/usr/local/spark/python/lib/py4j-0.10.9.7-src.zip/py4j/java_gateway.py\", line 1322, in __call__\n",
      "    return_value = get_return_value(\n",
      "                   ^^^^^^^^^^^^^^^^^\n",
      "  File \"/usr/local/spark/python/pyspark/errors/exceptions/captured.py\", line 175, in deco\n",
      "    raise converted from None\n",
      "pyspark.errors.exceptions.captured.AnalysisException: [UNRESOLVED_ROUTINE] Cannot resolve function `splitTags` on search path [`system`.`builtin`, `system`.`session`, `spark_catalog`.`default`].; line 2 pos 15\n"
     ]
    }
   ],
   "source": [
    "try:\n",
    "    scored_videos.registerTempTable('scored_videos')\n",
    "    df = spark.sql(f\"\"\"\n",
    "        select splitTags(tags) as tags\n",
    "          from scored_videos\n",
    "    \"\"\")\n",
    "    df.cache()\n",
    "    df.limit(11).toPandas()\n",
    "except: traceback.print_exc()"
   ]
  },
  {
   "cell_type": "code",
   "execution_count": null,
   "id": "e0dbf9ce-763a-48e9-86ff-869bc9c8a2f8",
   "metadata": {},
   "outputs": [],
   "source": [
    "spark.sparkContext.addJar(\"super_udf_lib.jar\")"
   ]
  },
  {
   "cell_type": "code",
   "execution_count": null,
   "id": "14206267-719e-4147-b810-ead37c3fd8eb",
   "metadata": {},
   "outputs": [],
   "source": [
    "import pyspark\n",
    "from pyspark.sql.functions import *\n",
    "from pyspark.sql.types import *\n",
    "from pyspark.sql import SparkSession\n",
    "# spark.stop(); del spark\n",
    "spark = SparkSession.builder.master(\"local\") \\\n",
    "    .config('spark.sql.autoBroadcastJoinThreshold', 0) \\\n",
    "    .config('spark.sql.adaptive.enabled', 'false') \\\n",
    "    .config(\"spark.jars\", \"super_udf_lib.jar\") \\\n",
    "    .getOrCreate()\n",
    "display(spark)\n",
    "videos = spark.table('videos')"
   ]
  },
  {
   "cell_type": "markdown",
   "id": "aa320615-dd73-4a22-8a0b-8ab98690afaf",
   "metadata": {},
   "source": [
    "#### Spark UI:\n",
    "- http://127.0.0.1:4040/stages/"
   ]
  },
  {
   "cell_type": "code",
   "execution_count": null,
   "id": "0db31e39-2c5c-4876-b1a3-c348a63faaad",
   "metadata": {},
   "outputs": [],
   "source": [
    "!which java"
   ]
  },
  {
   "cell_type": "code",
   "execution_count": null,
   "id": "177dfcc8-6961-46df-8af2-0bbbee96adcc",
   "metadata": {},
   "outputs": [],
   "source": [
    "%%bash\n",
    "echo $PATH\n",
    "export PATH=/usr/bin/java:$PATH\n",
    "echo $PATH"
   ]
  },
  {
   "cell_type": "code",
   "execution_count": null,
   "id": "887ab3aa-4d90-42a5-ac08-aad8d34cc6dd",
   "metadata": {},
   "outputs": [],
   "source": [
    "!ls super*\n",
    "!jar tf super_udf_lib.jar"
   ]
  },
  {
   "cell_type": "code",
   "execution_count": null,
   "id": "35f14a84-5e75-4a2d-9464-8ca4c0324f7e",
   "metadata": {},
   "outputs": [],
   "source": [
    "from pyspark.sql.types import ArrayType, StringType\n",
    "\n",
    "spark.udf.registerJavaFunction(\n",
    "    \"splitTags\", \n",
    "    \"com.example.super_udf_lib.CustomUDFs.splitTagsUDF\",\n",
    "    # \"super_udf_lib.CustomUDFs.splitTagsUDF\",\n",
    "    ArrayType(StringType())\n",
    ")"
   ]
  },
  {
   "cell_type": "markdown",
   "id": "aef65769-6292-49fd-867c-ff4347022d9b",
   "metadata": {},
   "source": [
    "### чот со Scala-UDF'кой пока никак... 🥹\n",
    "ну да ладно!.. 😅"
   ]
  },
  {
   "cell_type": "code",
   "execution_count": null,
   "id": "31a0b311-48a4-4c66-ba9a-6dbe96c4ee25",
   "metadata": {},
   "outputs": [],
   "source": [
    "# def get_videos_df():\n",
    "#     videos_df = spark.read.parquet('spark-warehouse/videos')\n",
    "#     videos_df.cache().count(), \\\n",
    "#     videos_df.show(5, 55)\n",
    "#     return videos_df\n",
    "\n",
    "# videos = get_videos_df()"
   ]
  },
  {
   "cell_type": "code",
   "execution_count": null,
   "id": "8dfac461-50b0-4e6d-b95e-9bbdcdc970f4",
   "metadata": {},
   "outputs": [],
   "source": [
    "from pyspark.sql.functions import udf\n",
    "\n",
    "# Define a Python function\n",
    "def split_tags(tags_str): return tags_str.split('|')\n",
    "\n",
    "# Create a UDF from the Python function\n",
    "split_tags_udf = udf(split_tags)\n",
    "\n",
    "# Now you can use this UDF in your DataFrame transformations\n",
    "videos = videos.withColumn('tags_array', split_tags_udf(videos['tags']))"
   ]
  },
  {
   "cell_type": "code",
   "execution_count": null,
   "id": "e4f62878-13c5-4176-b598-fdaa876885e0",
   "metadata": {},
   "outputs": [],
   "source": [
    "videos.printSchema()\n",
    "videos.where(f\"tags is not null and tags != '[none]'\").show(5, 33)"
   ]
  },
  {
   "cell_type": "code",
   "execution_count": null,
   "id": "c805ace0-2994-4422-acca-c81a1995ed9d",
   "metadata": {
    "scrolled": true
   },
   "outputs": [],
   "source": [
    "# так, пришла помощь из зала..\n",
    "from pyspark.sql.functions import pandas_udf, PandasUDFType, explode\n",
    "from pyspark.sql import DataFrame\n",
    "import pandas as pd\n",
    "\n",
    "@pandas_udf('array<string>', PandasUDFType.SCALAR)\n",
    "def split_tags(tags_series: pd.Series) -> pd.Series: return tags_series.str.split('|')\n",
    "\n",
    "def add_tags_array(df: DataFrame, tags_col: str) -> DataFrame: return df.withColumn('tags_array', split_tags(df[tags_col]))\n",
    "\n",
    "# A function to count the number of videos for each tag\n",
    "def count_videos_per_tag(df: DataFrame, tags_array_col: str) -> DataFrame: return (\n",
    "    df.select(\n",
    "        explode(\n",
    "                df[tags_array_col]\n",
    "                   ).alias('tag')\n",
    "     ).groupBy('tag').count()\n",
    ")\n",
    "\n",
    "# Load your DataFrame here\n",
    "# videos = spark.read...\n",
    "\n",
    "# Example data\n",
    "# video_id | title | tags\n",
    "# 1        | video1| tag1|tag2|tag3\n",
    "# 2        | video2| tag1|tag3\n",
    "# 3        | video3| tag2|tag3|tag4\n",
    "\n",
    "videos = add_tags_array(videos, 'tags')\n",
    "videos.show(3, 33)\n",
    "\n",
    "\n",
    "popular_tags = count_videos_per_tag(videos, 'tags_array')\n",
    "\n",
    "# popular_tags will be:\n",
    "# tag  | count\n",
    "# tag1 | 2\n",
    "# tag2 | 2\n",
    "# tag3 | 3\n",
    "# tag4 | 1\n",
    "popular_tags.show(3, 33)"
   ]
  },
  {
   "cell_type": "code",
   "execution_count": null,
   "id": "83f0ce47-86e7-4973-b75e-601a0b9f6033",
   "metadata": {},
   "outputs": [],
   "source": [
    "# сократим код:..\n",
    "df = videos\n",
    "df = df.withColumn('tags_array', split_tags(df['tags']))\n",
    "df.cache().show(3, 33)\n",
    "df = df.select('*',\n",
    "            explode(\n",
    "                df['tags_array']\n",
    "                   ).alias('tag')\n",
    "      )\n",
    "df.show(33, 33)\n",
    "# df = df.groupBy('tag').count()\n",
    "# df = df.orderBy(desc('count'))\n",
    "# df.cache().show(33, 33)"
   ]
  },
  {
   "cell_type": "markdown",
   "id": "f2add2e1-0f76-4c7c-ad2f-78a54b114403",
   "metadata": {},
   "source": [
    "## 4) И личная просьба от Марка: он любит котов (а кто не их не любит!) и хочет найти самые интересные комментарии (топ-5) к видео про котов. “Видео про котов” - видео, у которого есть тэг “cat”.\n"
   ]
  },
  {
   "cell_type": "code",
   "execution_count": null,
   "id": "c6ce0457-da64-49fd-b21a-2cd1792cf56d",
   "metadata": {},
   "outputs": [],
   "source": [
    "df.where(f\"tag like '%cat%'\").show(33, 33)"
   ]
  },
  {
   "cell_type": "code",
   "execution_count": null,
   "id": "9b15ca6e-e6c6-41bc-8115-f7b1830e7bda",
   "metadata": {},
   "outputs": [],
   "source": [
    "df = videos\n",
    "df = df.cache().where(f\"tag like '%cat%'\")\n",
    "df.show(33, 33)"
   ]
  },
  {
   "cell_type": "markdown",
   "id": "3f3af1de-a47b-42d1-b769-954943a2949f",
   "metadata": {},
   "source": [
    "### ладно, с котами потом разберёмся – надо 2-ю лабу поделать... 😅"
   ]
  },
  {
   "cell_type": "markdown",
   "id": "445ddd61-c5f8-44ef-82c9-745f1e1ae500",
   "metadata": {},
   "source": [
    "# Критерии приёмки\n",
    "! Оказывается не все ещё закрыты! 🤯��\n",
    "-\n",
    "- ...\n",
    "- 6 Для каждого join должна быть использована какая-либо из оптимизаций, предложенных на лекции. Выбор типа оптимизации нужно обосновать, описав его в комментариях в ноутбуке.\n",
    "- 7 Для расчета медианы нельзя использовать встроенную Spark-функцию median из пакета pyspark.sql.functions .\n",
    "- 8 Для функции разделения тегов должны быть представлены выводы по сравнению времени работы обычной и scala-версии."
   ]
  },
  {
   "cell_type": "code",
   "execution_count": null,
   "id": "13d41215-1e98-478c-a7ed-1e2cf6188fcb",
   "metadata": {},
   "outputs": [],
   "source": []
  }
 ],
 "metadata": {
  "kernelspec": {
   "display_name": "Python 3 (ipykernel)",
   "language": "python",
   "name": "python3"
  },
  "language_info": {
   "codemirror_mode": {
    "name": "ipython",
    "version": 3
   },
   "file_extension": ".py",
   "mimetype": "text/x-python",
   "name": "python",
   "nbconvert_exporter": "python",
   "pygments_lexer": "ipython3",
   "version": "3.11.3"
  }
 },
 "nbformat": 4,
 "nbformat_minor": 5
}
