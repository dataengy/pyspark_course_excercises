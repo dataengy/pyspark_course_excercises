{
 "cells": [
  {
   "attachments": {},
   "cell_type": "markdown",
   "id": "a690ad16-f8d3-4319-9e02-a7ec84d8166f",
   "metadata": {},
   "source": [
    "## [Задания](../README.md)\n",
    "\n",
    "### 1 scored_videos - датасет на USvideos.csv\n",
    " - с добавлением колонки, содержащей скор (показатель качества) видео: ФОРМУЛА должна включать в себя\n",
    "     - просмотры,\n",
    "     - лайки,дизлайки видео,\n",
    "     - лайки и дизлайки к комментариям к видео\n",
    "       \n",
    "### 2 categories_score - по категориям, в котором поля: \n",
    " - Название категории (не id) -  в US_category_id.json\n",
    " - Медиана показателя score из scored_videos по каждой категории\n",
    "\n",
    "### 3 popular_tags - по самым популярным тэгам\n",
    "  - название тэга + количество видео с этим тэгом\n",
    "    ! тэги лежат строкой в поле tags\n",
    "      - Scala-функцию для разбиения тегов: \n",
    "        - Но напишите свою UDF-функцию разбиения строки на тэги\n",
    "        - и сравните время работы с её Scala-версией.\n",
    "          - Можно замерять своими силами,\n",
    "            - а можно воспользоваться библиотекой timeit\n",
    "            - функции Spark из пакета pyspark.sq.functions использовать нельзя,\n",
    "              - нужно написать свою функцию.\n",
    "\n",
    "## [Критерии приёмки](https://github.com/dataengy/pyspark_course_excercises/blob/0abbfb22573a46501aabc109facd075632f7fcdf/hw1/README.md#%D0%BA%D1%80%D0%B8%D1%82%D0%B5%D1%80%D0%B8%D0%B8-%D0%B2%D1%8B%D0%BF%D0%BE%D0%BB%D0%BD%D0%B5%D0%BD%D0%B8%D1%8F)\n",
    "1. В качестве результата должна быть выслана ссылка на публичный git-репозиторий, созданный на основе репозитория, указанного в описании.\n",
    "1. Код решения должен быть в notebook Video Scoring.ipynb (уже находится в репозитории-примере).\n",
    "1. Все итоговые датасеты должны быть отображены в ноутбуке через .show() .\n",
    "1. Везде, где это возможно, обычные UDF должны быть заменены на Pandas UDF или Pandas API on Spark.\n",
    "1. Датасеты USvideos.csv и UScomments.csv считаем огромными (нельзя помещать в broadcast или кэшировать).\n",
    "1. Для каждого join должна быть использована какая-либо из оптимизаций, предложенных на лекции. Выбор типа оптимизации нужно обосновать, описав его в комментариях в ноутбуке.\n",
    "- ...\n",
    "#### - 8 Для функции разделения тегов должны быть представлены выводы по сравнению времени работы обычной и scala-версии.\n",
    "    - ну с Scala UDF чот пока никак не разобрался 😅🥲\n",
    "\n",
    "#### - 6 Для каждого join должна быть использована какая-либо из оптимизаций, предложенных на лекции. Выбор типа оптимизации нужно обосновать, описав его в комментариях в ноутбуке.\n",
    "    - 🤔... так, ну добавил:\n",
    "      – broadcast на категории при джоине с видео (маленькую с большой джойним, и partitioning на виде и бакетинг на комменты\n"
   ]
  },
  {
   "cell_type": "code",
   "execution_count": 159,
   "id": "6dbe5a14-0204-433d-beff-5b7dad0463dc",
   "metadata": {},
   "outputs": [],
   "source": [
    "# def skip_exc(handler=None):\n",
    "#   def \n",
    "#   def deco(fn):\n",
    "#     def wrap(*a, **k):\n",
    "#         try: return fn(*a, **k)\n",
    "#         except Exception as e: (handler or (lambda e, *_, **__: traceback.print_exc(), print(e, *_, __)))(e)\n",
    "#     return wrap\n",
    "#   def wrap(*a, **k):\n",
    "#         try: return fn(*a, **k)\n",
    "#         except Exception as e: (handler or (lambda e, *_, **__: traceback.print_exc(), print(e, *_, __)))(e)\n",
    "#   if callable(handler) and any(\n",
    "#       ##d (a for a in 'print log'.split(' ') if handler.__name__.startswith(a))\n",
    "#       (1,1)\n",
    "#           ):\n",
    "#               prinr(11)\n",
    "#               return deco(handler)\n",
    "#   else: \n",
    "#       prinr(22)\n",
    "#       return wrap\n",
    "\n",
    "# @skip_exc\n",
    "# def foo(a): return a/0\n",
    "\n",
    "# @skip_exc(handler=print) \n",
    "# def bar(a): return a/0\n",
    "\n",
    "# # foo(1)\n",
    "# bar(2)\n",
    "# print(123)"
   ]
  },
  {
   "cell_type": "code",
   "execution_count": 231,
   "id": "c40c508a-cbaf-40e2-87a1-4054625bb18d",
   "metadata": {},
   "outputs": [
    {
     "name": "stdout",
     "output_type": "stream",
     "text": [
      "# com:\tarray_compact\tcomments_schema\tcomments\tcomments_by_video\t\n",
      "# df:\tpandas_udf\tcall_udf\tudf\tget_videos_df\tdf\tdf_exploded\tcategories_df\tvideos_df\tdff\tdfn\t\n"
     ]
    },
    {
     "data": {
      "text/plain": [
       "['com', 'df']"
      ]
     },
     "execution_count": 231,
     "metadata": {},
     "output_type": "execute_result"
    }
   ],
   "source": [
    "import traceback, re\n",
    "from IPython.core.magic import register_cell_magic, register_line_magic\n",
    "@register_cell_magic\n",
    "def skip_err(line, cell):\n",
    "    try: exec(cell, globals())\n",
    "    except Exception as e: traceback.print_exc()\n",
    "\n",
    "@register_line_magic\n",
    "def globs(line, do_print=None):\n",
    "    \"\"\" Get all global vars by: 1) regexp name mask, 2) type if it's set by only-one arg in python syntax \"\"\"\n",
    "    # print(f\"{'-p' in line.split(' ') =}\")\n",
    "    if do_print is None:\n",
    "        do_print, line = (True, line.replace('-p', '')\n",
    "                         ) if '-p' in line.split(' ') else (False, line)\n",
    "        line=line.strip(' ')\n",
    "        # print(f\"# {line=}\")\n",
    "    if ' ' in line: return [globs(line, do_print=do_print) for line in line.split(' ')] # if not do_print else None\n",
    "    try:\n",
    "        if isinstance(eval(line), type):\n",
    "            print(f\"Search globals of type <{isinstance((type_ := eval(line)), type), line}>:..\")\n",
    "            return [g for g in globals() if isinstance(globals()[g], type_)]\n",
    "    except NameError: pass\n",
    "    if (matching_variables := [var_name for var_name in globals() if re.compile(line).search(var_name)]):\n",
    "        print(f\"# {line}:\\t\", end='')\n",
    "        for var_name in matching_variables: print(var_name, end='\\t') if do_print else ''\n",
    "        print()\n",
    "    else: print(f\"No matching variables for <{line}> found.\")\n",
    "    return matching_variables if not do_print else line\n",
    "%globs -p com df"
   ]
  },
  {
   "cell_type": "code",
   "execution_count": 161,
   "id": "4b94b2e0-3796-411b-ad82-1b56e7f89e1f",
   "metadata": {},
   "outputs": [
    {
     "data": {
      "text/html": [
       "\n",
       "            <div>\n",
       "                <p><b>SparkSession - in-memory</b></p>\n",
       "                \n",
       "        <div>\n",
       "            <p><b>SparkContext</b></p>\n",
       "\n",
       "            <p><a href=\"http://76c09a2dee74:4042\">Spark UI</a></p>\n",
       "\n",
       "            <dl>\n",
       "              <dt>Version</dt>\n",
       "                <dd><code>v3.4.0</code></dd>\n",
       "              <dt>Master</dt>\n",
       "                <dd><code>local</code></dd>\n",
       "              <dt>AppName</dt>\n",
       "                <dd><code>pyspark-shell</code></dd>\n",
       "            </dl>\n",
       "        </div>\n",
       "        \n",
       "            </div>\n",
       "        "
      ],
      "text/plain": [
       "<pyspark.sql.session.SparkSession at 0xffff98360b50>"
      ]
     },
     "metadata": {},
     "output_type": "display_data"
    },
    {
     "data": {
      "text/plain": [
       "[('spark.app.initial.jar.urls',\n",
       "  'spark://76c09a2dee74:38483/jars/super_udf_lib.jar'),\n",
       " ('spark.jars', 'super_udf_lib.jar'),\n",
       " ('spark.repl.local.jars', 'file:///home/jovyan/notebooks/super_udf_lib.jar')]"
      ]
     },
     "execution_count": 161,
     "metadata": {},
     "output_type": "execute_result"
    }
   ],
   "source": [
    "import pyspark\n",
    "from pyspark.sql.functions import *\n",
    "from pyspark.sql.types import *\n",
    "from pyspark.sql import SparkSession\n",
    "from pyspark.sql.functions import udf\n",
    "from pyspark.sql.types import ArrayType, StringType\n",
    "\n",
    "spark = SparkSession.builder.master(\"local\") \\\n",
    "    .config('spark.sql.autoBroadcastJoinThreshold', 0) \\\n",
    "    .config('spark.sql.adaptive.enabled', 'false') \\\n",
    "    .config(\"spark.jars\", \"super_udf_lib.jar\") \\\n",
    "    .getOrCreate()\n",
    "display(spark)\n",
    "\n",
    "def get_videos_df():\n",
    "    videos_df = spark.read.parquet('spark-warehouse/videos')  # to reload saved after spark restart\n",
    "    videos_df.cache().count(), \\\n",
    "    videos_df.show(5, 55)\n",
    "    return videos_df\n",
    "\n",
    "# videos = get_videos_df(); videos.show(3, 33)\n",
    "\n",
    "# check jars in conf\n",
    "[(g, v) for g, v in dict(spark.sparkContext.getConf().getAll()).items() if 'jar' in g]\n",
    "\n",
    "# videos_df.createOrReplaceTempView('videos_df')\n",
    "# df = spark.sql(\"SELECT splitTagsUDF(tags) as tags_array FROM videos_df\")"
   ]
  },
  {
   "cell_type": "markdown",
   "id": "5a9e9981-940c-40f3-9574-3a13e926e77d",
   "metadata": {},
   "source": [
    "#### Spark UI:\n",
    "- http://127.0.0.1:4040/stages/"
   ]
  },
  {
   "cell_type": "code",
   "execution_count": 162,
   "id": "36621209-95a7-49bf-b6bb-402c88e298d7",
   "metadata": {},
   "outputs": [
    {
     "name": "stderr",
     "output_type": "stream",
     "text": [
      "Traceback (most recent call last):\n",
      "  File \"/tmp/ipykernel_34488/2760181416.py\", line 5, in skip_err\n",
      "    try: exec(cell, globals())\n",
      "         ^^^^^^^^^^^^^^^^^^^^^\n",
      "  File \"<string>\", line 1, in <module>\n",
      "AttributeError: 'SparkContext' object has no attribute 'addJar'\n"
     ]
    }
   ],
   "source": [
    "%%skip_err\n",
    "spark.sparkContext.addJar(\"super_udf_lib.jar\")"
   ]
  },
  {
   "cell_type": "code",
   "execution_count": 163,
   "id": "b2f12aaa-5799-4108-bfce-1d326a298f6f",
   "metadata": {},
   "outputs": [
    {
     "name": "stderr",
     "output_type": "stream",
     "text": [
      "Traceback (most recent call last):\n",
      "  File \"/tmp/ipykernel_34488/2760181416.py\", line 5, in skip_err\n",
      "    try: exec(cell, globals())\n",
      "         ^^^^^^^^^^^^^^^^^^^^^\n",
      "  File \"<string>\", line 2, in <module>\n",
      "  File \"/usr/local/spark/python/pyspark/sql/udf.py\", line 660, in registerJavaFunction\n",
      "    self.sparkSession._jsparkSession.udf().registerJava(name, javaClassName, jdt)\n",
      "  File \"/usr/local/spark/python/lib/py4j-0.10.9.7-src.zip/py4j/java_gateway.py\", line 1322, in __call__\n",
      "    return_value = get_return_value(\n",
      "                   ^^^^^^^^^^^^^^^^^\n",
      "  File \"/usr/local/spark/python/pyspark/errors/exceptions/captured.py\", line 175, in deco\n",
      "    raise converted from None\n",
      "pyspark.errors.exceptions.captured.AnalysisException: Can not load class super_udf_lib.CustomUDFs.splitTagsUDF, please make sure it is on the classpath.\n"
     ]
    }
   ],
   "source": [
    "%%skip_err\n",
    "# spark.udf.registerJavaFunction(\"splitTags\", \"CustomUDFs.splitTags\", ArrayType(StringType()))\n",
    "spark.udf.registerJavaFunction(\"splitTagsUDF\", \"super_udf_lib.CustomUDFs.splitTagsUDF\", ArrayType(StringType()))"
   ]
  },
  {
   "cell_type": "code",
   "execution_count": 164,
   "id": "36d68a18-034a-4345-9385-6a65491eeebe",
   "metadata": {},
   "outputs": [
    {
     "name": "stderr",
     "output_type": "stream",
     "text": [
      "Traceback (most recent call last):\n",
      "  File \"/tmp/ipykernel_34488/2760181416.py\", line 5, in skip_err\n",
      "    try: exec(cell, globals())\n",
      "         ^^^^^^^^^^^^^^^^^^^^^\n",
      "  File \"<string>\", line 1, in <module>\n",
      "  File \"/usr/local/spark/python/pyspark/sql/udf.py\", line 660, in registerJavaFunction\n",
      "    self.sparkSession._jsparkSession.udf().registerJava(name, javaClassName, jdt)\n",
      "  File \"/usr/local/spark/python/lib/py4j-0.10.9.7-src.zip/py4j/java_gateway.py\", line 1322, in __call__\n",
      "    return_value = get_return_value(\n",
      "                   ^^^^^^^^^^^^^^^^^\n",
      "  File \"/usr/local/spark/python/pyspark/errors/exceptions/captured.py\", line 175, in deco\n",
      "    raise converted from None\n",
      "pyspark.errors.exceptions.captured.AnalysisException: Can not load class com.example.super_udf_lib.CustomUDFs.splitTagsUDF, please make sure it is on the classpath.\n"
     ]
    }
   ],
   "source": [
    "%%skip_err\n",
    "spark.udf.registerJavaFunction(\n",
    "    \"splitTags\", \n",
    "    \"com.example.super_udf_lib.CustomUDFs.splitTagsUDF\",\n",
    "    # \"super_udf_lib.CustomUDFs.splitTagsUDF\",\n",
    "    ArrayType(StringType())\n",
    ")"
   ]
  },
  {
   "cell_type": "markdown",
   "id": "aef65769-6292-49fd-867c-ff4347022d9b",
   "metadata": {},
   "source": [
    "### чот со Scala-UDF'кой пока никак... 🥹\n",
    "ну да ладно!.. 😅"
   ]
  },
  {
   "cell_type": "code",
   "execution_count": 165,
   "id": "3a856426-38f5-4bc6-83c5-34fc8aff443d",
   "metadata": {},
   "outputs": [
    {
     "name": "stdout",
     "output_type": "stream",
     "text": [
      "12\tdatasets/US_category_id.json\n",
      "71108\tdatasets/UScomments.csv\n",
      "2916\tdatasets/USvideos.csv\n",
      "+-----------+-----------+-------------+-----------+-----------+-------+------+--------+-------------+--------------+-----+\n",
      "|   video_id|      title|channel_title|category_id|       tags|  views| likes|dislikes|comment_total|thumbnail_link| date|\n",
      "+-----------+-----------+-------------+-----------+-----------+-------+------+--------+-------------+--------------+-----+\n",
      "|XpVt6Z1Gjjo|1 YEAR O...|  Logan Pa...|         24|logan pa...|4394029|320053|    5931|        46245|   https://...|13.09|\n",
      "|K4wEI5zhHB0|iPhone X...|        Apple|         28|Apple|iP...|7860119|185853|   26679|            0|   https://...|13.09|\n",
      "|cLdxuaxaQwc|My Response|    PewDiePie|         22|     [none]|5845909|576597|   39774|       170708|   https://...|13.09|\n",
      "+-----------+-----------+-------------+-----------+-----------+-------+------+--------+-------------+--------------+-----+\n",
      "only showing top 3 rows\n",
      "\n"
     ]
    },
    {
     "data": {
      "text/html": [
       "<div>\n",
       "<style scoped>\n",
       "    .dataframe tbody tr th:only-of-type {\n",
       "        vertical-align: middle;\n",
       "    }\n",
       "\n",
       "    .dataframe tbody tr th {\n",
       "        vertical-align: top;\n",
       "    }\n",
       "\n",
       "    .dataframe thead th {\n",
       "        text-align: right;\n",
       "    }\n",
       "</style>\n",
       "<table border=\"1\" class=\"dataframe\">\n",
       "  <thead>\n",
       "    <tr style=\"text-align: right;\">\n",
       "      <th></th>\n",
       "      <th>0</th>\n",
       "      <th>1</th>\n",
       "      <th>2</th>\n",
       "    </tr>\n",
       "  </thead>\n",
       "  <tbody>\n",
       "    <tr>\n",
       "      <th>video_id</th>\n",
       "      <td>XpVt6Z1Gjjo</td>\n",
       "      <td>K4wEI5zhHB0</td>\n",
       "      <td>cLdxuaxaQwc</td>\n",
       "    </tr>\n",
       "    <tr>\n",
       "      <th>title</th>\n",
       "      <td>1 YEAR OF VLOGGING -- HOW LOGAN PAUL CHANGED Y...</td>\n",
       "      <td>iPhone X — Introducing iPhone X — Apple</td>\n",
       "      <td>My Response</td>\n",
       "    </tr>\n",
       "    <tr>\n",
       "      <th>channel_title</th>\n",
       "      <td>Logan Paul Vlogs</td>\n",
       "      <td>Apple</td>\n",
       "      <td>PewDiePie</td>\n",
       "    </tr>\n",
       "    <tr>\n",
       "      <th>category_id</th>\n",
       "      <td>24</td>\n",
       "      <td>28</td>\n",
       "      <td>22</td>\n",
       "    </tr>\n",
       "    <tr>\n",
       "      <th>tags</th>\n",
       "      <td>logan paul vlog|logan paul|logan|paul|olympics...</td>\n",
       "      <td>Apple|iPhone 10|iPhone Ten|iPhone|Portrait Lig...</td>\n",
       "      <td>[none]</td>\n",
       "    </tr>\n",
       "    <tr>\n",
       "      <th>views</th>\n",
       "      <td>4394029</td>\n",
       "      <td>7860119</td>\n",
       "      <td>5845909</td>\n",
       "    </tr>\n",
       "    <tr>\n",
       "      <th>likes</th>\n",
       "      <td>320053</td>\n",
       "      <td>185853</td>\n",
       "      <td>576597</td>\n",
       "    </tr>\n",
       "    <tr>\n",
       "      <th>dislikes</th>\n",
       "      <td>5931</td>\n",
       "      <td>26679</td>\n",
       "      <td>39774</td>\n",
       "    </tr>\n",
       "    <tr>\n",
       "      <th>comment_total</th>\n",
       "      <td>46245</td>\n",
       "      <td>0</td>\n",
       "      <td>170708</td>\n",
       "    </tr>\n",
       "    <tr>\n",
       "      <th>thumbnail_link</th>\n",
       "      <td>https://i.ytimg.com/vi/XpVt6Z1Gjjo/default.jpg</td>\n",
       "      <td>https://i.ytimg.com/vi/K4wEI5zhHB0/default.jpg</td>\n",
       "      <td>https://i.ytimg.com/vi/cLdxuaxaQwc/default.jpg</td>\n",
       "    </tr>\n",
       "    <tr>\n",
       "      <th>date</th>\n",
       "      <td>13.09</td>\n",
       "      <td>13.09</td>\n",
       "      <td>13.09</td>\n",
       "    </tr>\n",
       "  </tbody>\n",
       "</table>\n",
       "</div>"
      ],
      "text/plain": [
       "                                                                0  \\\n",
       "video_id                                              XpVt6Z1Gjjo   \n",
       "title           1 YEAR OF VLOGGING -- HOW LOGAN PAUL CHANGED Y...   \n",
       "channel_title                                    Logan Paul Vlogs   \n",
       "category_id                                                    24   \n",
       "tags            logan paul vlog|logan paul|logan|paul|olympics...   \n",
       "views                                                     4394029   \n",
       "likes                                                      320053   \n",
       "dislikes                                                     5931   \n",
       "comment_total                                               46245   \n",
       "thumbnail_link     https://i.ytimg.com/vi/XpVt6Z1Gjjo/default.jpg   \n",
       "date                                                        13.09   \n",
       "\n",
       "                                                                1  \\\n",
       "video_id                                              K4wEI5zhHB0   \n",
       "title                     iPhone X — Introducing iPhone X — Apple   \n",
       "channel_title                                               Apple   \n",
       "category_id                                                    28   \n",
       "tags            Apple|iPhone 10|iPhone Ten|iPhone|Portrait Lig...   \n",
       "views                                                     7860119   \n",
       "likes                                                      185853   \n",
       "dislikes                                                    26679   \n",
       "comment_total                                                   0   \n",
       "thumbnail_link     https://i.ytimg.com/vi/K4wEI5zhHB0/default.jpg   \n",
       "date                                                        13.09   \n",
       "\n",
       "                                                             2  \n",
       "video_id                                           cLdxuaxaQwc  \n",
       "title                                              My Response  \n",
       "channel_title                                        PewDiePie  \n",
       "category_id                                                 22  \n",
       "tags                                                    [none]  \n",
       "views                                                  5845909  \n",
       "likes                                                   576597  \n",
       "dislikes                                                 39774  \n",
       "comment_total                                           170708  \n",
       "thumbnail_link  https://i.ytimg.com/vi/cLdxuaxaQwc/default.jpg  \n",
       "date                                                     13.09  "
      ]
     },
     "execution_count": 165,
     "metadata": {},
     "output_type": "execute_result"
    }
   ],
   "source": [
    "# Look datasets & load videos\n",
    "!du datasets/*\n",
    "videos = spark.read.option('header', 'true').option(\"inferSchema\", \"true\").csv('datasets/USvideos.csv')\n",
    "videos_src = videos\n",
    "videos.show(3, 11)\n",
    "videos.limit(3).toPandas().T"
   ]
  },
  {
   "cell_type": "code",
   "execution_count": 166,
   "id": "805005cc-0c92-45e3-ab79-44a348f9c2d3",
   "metadata": {},
   "outputs": [
    {
     "data": {
      "text/html": [
       "<div>\n",
       "<style scoped>\n",
       "    .dataframe tbody tr th:only-of-type {\n",
       "        vertical-align: middle;\n",
       "    }\n",
       "\n",
       "    .dataframe tbody tr th {\n",
       "        vertical-align: top;\n",
       "    }\n",
       "\n",
       "    .dataframe thead th {\n",
       "        text-align: right;\n",
       "    }\n",
       "</style>\n",
       "<table border=\"1\" class=\"dataframe\">\n",
       "  <thead>\n",
       "    <tr style=\"text-align: right;\">\n",
       "      <th></th>\n",
       "      <th>video_id</th>\n",
       "      <th>comment_text</th>\n",
       "      <th>likes</th>\n",
       "      <th>replies</th>\n",
       "    </tr>\n",
       "  </thead>\n",
       "  <tbody>\n",
       "    <tr>\n",
       "      <th>0</th>\n",
       "      <td>XpVt6Z1Gjjo</td>\n",
       "      <td>Logan Paul it's yo big day ‼️‼️‼️</td>\n",
       "      <td>4</td>\n",
       "      <td>0</td>\n",
       "    </tr>\n",
       "    <tr>\n",
       "      <th>1</th>\n",
       "      <td>XpVt6Z1Gjjo</td>\n",
       "      <td>I've been following you from the start of your...</td>\n",
       "      <td>3</td>\n",
       "      <td>0</td>\n",
       "    </tr>\n",
       "    <tr>\n",
       "      <th>2</th>\n",
       "      <td>XpVt6Z1Gjjo</td>\n",
       "      <td>Say hi to Kong and maverick for me</td>\n",
       "      <td>3</td>\n",
       "      <td>0</td>\n",
       "    </tr>\n",
       "  </tbody>\n",
       "</table>\n",
       "</div>"
      ],
      "text/plain": [
       "      video_id                                       comment_text  likes  \\\n",
       "0  XpVt6Z1Gjjo                  Logan Paul it's yo big day ‼️‼️‼️      4   \n",
       "1  XpVt6Z1Gjjo  I've been following you from the start of your...      3   \n",
       "2  XpVt6Z1Gjjo                 Say hi to Kong and maverick for me      3   \n",
       "\n",
       "   replies  \n",
       "0        0  \n",
       "1        0  \n",
       "2        0  "
      ]
     },
     "execution_count": 166,
     "metadata": {},
     "output_type": "execute_result"
    }
   ],
   "source": [
    "# Load comments\n",
    "comments_schema = StructType([ \\\n",
    "    StructField(\"video_id\", StringType(), True), \\\n",
    "    StructField(\"comment_text\", StringType(), True), \\\n",
    "    StructField(\"likes\", IntegerType(), True), \\\n",
    "    StructField(\"replies\", IntegerType(), True)])\n",
    "comments = spark.read.option('header', 'true').option(\"mode\", \"DROPMALFORMED\").schema(comments_schema).csv('datasets/UScomments.csv')\n",
    "comments.limit(3).toPandas()"
   ]
  },
  {
   "cell_type": "code",
   "execution_count": 167,
   "id": "07a8aefa-d965-4318-893d-deea06ef9755",
   "metadata": {},
   "outputs": [
    {
     "name": "stdout",
     "output_type": "stream",
     "text": [
      "root\n",
      " |-- video_id: string (nullable = true)\n",
      " |-- title: string (nullable = true)\n",
      " |-- channel_title: string (nullable = true)\n",
      " |-- category_id: integer (nullable = true)\n",
      " |-- tags: string (nullable = true)\n",
      " |-- views: integer (nullable = true)\n",
      " |-- likes: integer (nullable = true)\n",
      " |-- dislikes: integer (nullable = true)\n",
      " |-- comment_total: integer (nullable = true)\n",
      " |-- thumbnail_link: string (nullable = true)\n",
      " |-- date: string (nullable = true)\n",
      "\n",
      "root\n",
      " |-- video_id: string (nullable = true)\n",
      " |-- comment_text: string (nullable = true)\n",
      " |-- likes: integer (nullable = true)\n",
      " |-- replies: integer (nullable = true)\n",
      "\n"
     ]
    },
    {
     "data": {
      "text/plain": [
       "(None, None)"
      ]
     },
     "execution_count": 167,
     "metadata": {},
     "output_type": "execute_result"
    }
   ],
   "source": [
    "videos.printSchema(), comments.printSchema()"
   ]
  },
  {
   "cell_type": "code",
   "execution_count": 168,
   "id": "9fc0d78b-8c9c-49dc-ab05-b8fa4ddb349d",
   "metadata": {
    "scrolled": true
   },
   "outputs": [
    {
     "data": {
      "text/plain": [
       "\u001b[0;31mSignature:\u001b[0m \u001b[0mcoalesce\u001b[0m\u001b[0;34m(\u001b[0m\u001b[0;34m*\u001b[0m\u001b[0mcols\u001b[0m\u001b[0;34m:\u001b[0m \u001b[0;34m'ColumnOrName'\u001b[0m\u001b[0;34m)\u001b[0m \u001b[0;34m->\u001b[0m \u001b[0mpyspark\u001b[0m\u001b[0;34m.\u001b[0m\u001b[0msql\u001b[0m\u001b[0;34m.\u001b[0m\u001b[0mcolumn\u001b[0m\u001b[0;34m.\u001b[0m\u001b[0mColumn\u001b[0m\u001b[0;34m\u001b[0m\u001b[0;34m\u001b[0m\u001b[0m\n",
       "\u001b[0;31mSource:\u001b[0m   \n",
       "\u001b[0;34m@\u001b[0m\u001b[0mtry_remote_functions\u001b[0m\u001b[0;34m\u001b[0m\n",
       "\u001b[0;34m\u001b[0m\u001b[0;32mdef\u001b[0m \u001b[0mcoalesce\u001b[0m\u001b[0;34m(\u001b[0m\u001b[0;34m*\u001b[0m\u001b[0mcols\u001b[0m\u001b[0;34m:\u001b[0m \u001b[0;34m\"ColumnOrName\"\u001b[0m\u001b[0;34m)\u001b[0m \u001b[0;34m->\u001b[0m \u001b[0mColumn\u001b[0m\u001b[0;34m:\u001b[0m\u001b[0;34m\u001b[0m\n",
       "\u001b[0;34m\u001b[0m    \u001b[0;34m\"\"\"Returns the first column that is not null.\u001b[0m\n",
       "\u001b[0;34m\u001b[0m\n",
       "\u001b[0;34m    .. versionadded:: 1.4.0\u001b[0m\n",
       "\u001b[0;34m\u001b[0m\n",
       "\u001b[0;34m    .. versionchanged:: 3.4.0\u001b[0m\n",
       "\u001b[0;34m        Supports Spark Connect.\u001b[0m\n",
       "\u001b[0;34m\u001b[0m\n",
       "\u001b[0;34m    Parameters\u001b[0m\n",
       "\u001b[0;34m    ----------\u001b[0m\n",
       "\u001b[0;34m    cols : :class:`~pyspark.sql.Column` or str\u001b[0m\n",
       "\u001b[0;34m        list of columns to work on.\u001b[0m\n",
       "\u001b[0;34m\u001b[0m\n",
       "\u001b[0;34m    Returns\u001b[0m\n",
       "\u001b[0;34m    -------\u001b[0m\n",
       "\u001b[0;34m    :class:`~pyspark.sql.Column`\u001b[0m\n",
       "\u001b[0;34m        value of the first column that is not null.\u001b[0m\n",
       "\u001b[0;34m\u001b[0m\n",
       "\u001b[0;34m    Examples\u001b[0m\n",
       "\u001b[0;34m    --------\u001b[0m\n",
       "\u001b[0;34m    >>> cDf = spark.createDataFrame([(None, None), (1, None), (None, 2)], (\"a\", \"b\"))\u001b[0m\n",
       "\u001b[0;34m    >>> cDf.show()\u001b[0m\n",
       "\u001b[0;34m    +----+----+\u001b[0m\n",
       "\u001b[0;34m    |   a|   b|\u001b[0m\n",
       "\u001b[0;34m    +----+----+\u001b[0m\n",
       "\u001b[0;34m    |null|null|\u001b[0m\n",
       "\u001b[0;34m    |   1|null|\u001b[0m\n",
       "\u001b[0;34m    |null|   2|\u001b[0m\n",
       "\u001b[0;34m    +----+----+\u001b[0m\n",
       "\u001b[0;34m\u001b[0m\n",
       "\u001b[0;34m    >>> cDf.select(coalesce(cDf[\"a\"], cDf[\"b\"])).show()\u001b[0m\n",
       "\u001b[0;34m    +--------------+\u001b[0m\n",
       "\u001b[0;34m    |coalesce(a, b)|\u001b[0m\n",
       "\u001b[0;34m    +--------------+\u001b[0m\n",
       "\u001b[0;34m    |          null|\u001b[0m\n",
       "\u001b[0;34m    |             1|\u001b[0m\n",
       "\u001b[0;34m    |             2|\u001b[0m\n",
       "\u001b[0;34m    +--------------+\u001b[0m\n",
       "\u001b[0;34m\u001b[0m\n",
       "\u001b[0;34m    >>> cDf.select('*', coalesce(cDf[\"a\"], lit(0.0))).show()\u001b[0m\n",
       "\u001b[0;34m    +----+----+----------------+\u001b[0m\n",
       "\u001b[0;34m    |   a|   b|coalesce(a, 0.0)|\u001b[0m\n",
       "\u001b[0;34m    +----+----+----------------+\u001b[0m\n",
       "\u001b[0;34m    |null|null|             0.0|\u001b[0m\n",
       "\u001b[0;34m    |   1|null|             1.0|\u001b[0m\n",
       "\u001b[0;34m    |null|   2|             0.0|\u001b[0m\n",
       "\u001b[0;34m    +----+----+----------------+\u001b[0m\n",
       "\u001b[0;34m    \"\"\"\u001b[0m\u001b[0;34m\u001b[0m\n",
       "\u001b[0;34m\u001b[0m    \u001b[0;32mreturn\u001b[0m \u001b[0m_invoke_function_over_seq_of_columns\u001b[0m\u001b[0;34m(\u001b[0m\u001b[0;34m\"coalesce\"\u001b[0m\u001b[0;34m,\u001b[0m \u001b[0mcols\u001b[0m\u001b[0;34m)\u001b[0m\u001b[0;34m\u001b[0m\u001b[0;34m\u001b[0m\u001b[0m\n",
       "\u001b[0;31mFile:\u001b[0m      /usr/local/spark/python/pyspark/sql/functions.py\n",
       "\u001b[0;31mType:\u001b[0m      function"
      ]
     },
     "metadata": {},
     "output_type": "display_data"
    }
   ],
   "source": [
    "coalesce??"
   ]
  },
  {
   "cell_type": "code",
   "execution_count": 169,
   "id": "02855fdf-66ea-451e-a286-98c6dee70d41",
   "metadata": {},
   "outputs": [
    {
     "name": "stdout",
     "output_type": "stream",
     "text": [
      "+-----------+----------+\n",
      "|   video_id|sum(likes)|\n",
      "+-----------+----------+\n",
      "|xPS7bqBePSs|      1037|\n",
      "|dInwVhRtN4E|        63|\n",
      "|rn5Xgak1zzA|        14|\n",
      "|TzyraAp3jaY|      1126|\n",
      "|eHq6ZA6uKOg|       797|\n",
      "|_r5eTelhpmQ|       749|\n",
      "|JkqTeQHFoBY|       558|\n",
      "|Bo-qp-Zu0OY|        71|\n",
      "|K7pQsR8WFSo|       104|\n",
      "|g_ekn1gjBq0|        47|\n",
      "|4yCkkOvIkUI|        36|\n",
      "+-----------+----------+\n",
      "only showing top 11 rows\n",
      "\n"
     ]
    }
   ],
   "source": [
    "comments_by_video = comments.groupBy('video_id').sum('likes').alias('likes') #!dw\n",
    "comments_by_video.cache().show(11, 33)"
   ]
  },
  {
   "cell_type": "code",
   "execution_count": 170,
   "id": "5fd973e4-721d-4dba-85fa-d3966b48eddc",
   "metadata": {},
   "outputs": [
    {
     "name": "stdout",
     "output_type": "stream",
     "text": [
      "+-----------+---------------------------------+--------------+-----------+---------------------------------+-------+-----+--------+-------------+---------------------------------+-----+\n",
      "|   video_id|                            title| channel_title|category_id|                             tags|  views|likes|dislikes|comment_total|                   thumbnail_link| date|\n",
      "+-----------+---------------------------------+--------------+-----------+---------------------------------+-------+-----+--------+-------------+---------------------------------+-----+\n",
      "|-6Zc8Co2H3w|Honest Trailers - Star Trek: T...|Screen Junkies|          1|screen junkies|screenjunkies|s...|1547293|42960|    1075|         7498|https://i.ytimg.com/vi/-6Zc8Co...|28.09|\n",
      "|-6Zc8Co2H3w|Honest Trailers - Star Trek: T...|Screen Junkies|          1|screen junkies|screenjunkies|s...|1764868|46524|    1183|         6152|https://i.ytimg.com/vi/-6Zc8Co...|29.09|\n",
      "|-6Zc8Co2H3w|Honest Trailers - Star Trek: T...|Screen Junkies|          1|screen junkies|screenjunkies|s...|1870380|48211|    1243|         6526|https://i.ytimg.com/vi/-6Zc8Co...|30.09|\n",
      "|-6Zc8Co2H3w|Honest Trailers - Star Trek: T...|Screen Junkies|          1|screen junkies|screenjunkies|s...|1956813|49656|    1287|         6894|https://i.ytimg.com/vi/-6Zc8Co...|01.10|\n",
      "+-----------+---------------------------------+--------------+-----------+---------------------------------+-------+-----+--------+-------------+---------------------------------+-----+\n",
      "\n"
     ]
    },
    {
     "data": {
      "text/html": [
       "<div>\n",
       "<style scoped>\n",
       "    .dataframe tbody tr th:only-of-type {\n",
       "        vertical-align: middle;\n",
       "    }\n",
       "\n",
       "    .dataframe tbody tr th {\n",
       "        vertical-align: top;\n",
       "    }\n",
       "\n",
       "    .dataframe thead th {\n",
       "        text-align: right;\n",
       "    }\n",
       "</style>\n",
       "<table border=\"1\" class=\"dataframe\">\n",
       "  <thead>\n",
       "    <tr style=\"text-align: right;\">\n",
       "      <th></th>\n",
       "      <th>0</th>\n",
       "      <th>1</th>\n",
       "      <th>2</th>\n",
       "    </tr>\n",
       "  </thead>\n",
       "  <tbody>\n",
       "    <tr>\n",
       "      <th>video_id</th>\n",
       "      <td>-6Zc8Co2H3w</td>\n",
       "      <td>-6Zc8Co2H3w</td>\n",
       "      <td>-6Zc8Co2H3w</td>\n",
       "    </tr>\n",
       "    <tr>\n",
       "      <th>title</th>\n",
       "      <td>Honest Trailers - Star Trek: The Next Generation</td>\n",
       "      <td>Honest Trailers - Star Trek: The Next Generation</td>\n",
       "      <td>Honest Trailers - Star Trek: The Next Generation</td>\n",
       "    </tr>\n",
       "    <tr>\n",
       "      <th>channel_title</th>\n",
       "      <td>Screen Junkies</td>\n",
       "      <td>Screen Junkies</td>\n",
       "      <td>Screen Junkies</td>\n",
       "    </tr>\n",
       "    <tr>\n",
       "      <th>category_id</th>\n",
       "      <td>1</td>\n",
       "      <td>1</td>\n",
       "      <td>1</td>\n",
       "    </tr>\n",
       "    <tr>\n",
       "      <th>tags</th>\n",
       "      <td>screen junkies|screenjunkies|sj news|honest tr...</td>\n",
       "      <td>screen junkies|screenjunkies|sj news|honest tr...</td>\n",
       "      <td>screen junkies|screenjunkies|sj news|honest tr...</td>\n",
       "    </tr>\n",
       "    <tr>\n",
       "      <th>views</th>\n",
       "      <td>1547293</td>\n",
       "      <td>1764868</td>\n",
       "      <td>1870380</td>\n",
       "    </tr>\n",
       "    <tr>\n",
       "      <th>likes</th>\n",
       "      <td>42960</td>\n",
       "      <td>46524</td>\n",
       "      <td>48211</td>\n",
       "    </tr>\n",
       "    <tr>\n",
       "      <th>dislikes</th>\n",
       "      <td>1075</td>\n",
       "      <td>1183</td>\n",
       "      <td>1243</td>\n",
       "    </tr>\n",
       "    <tr>\n",
       "      <th>comment_total</th>\n",
       "      <td>7498</td>\n",
       "      <td>6152</td>\n",
       "      <td>6526</td>\n",
       "    </tr>\n",
       "    <tr>\n",
       "      <th>thumbnail_link</th>\n",
       "      <td>https://i.ytimg.com/vi/-6Zc8Co2H3w/default.jpg</td>\n",
       "      <td>https://i.ytimg.com/vi/-6Zc8Co2H3w/default.jpg</td>\n",
       "      <td>https://i.ytimg.com/vi/-6Zc8Co2H3w/default.jpg</td>\n",
       "    </tr>\n",
       "    <tr>\n",
       "      <th>date</th>\n",
       "      <td>28.09</td>\n",
       "      <td>29.09</td>\n",
       "      <td>30.09</td>\n",
       "    </tr>\n",
       "  </tbody>\n",
       "</table>\n",
       "</div>"
      ],
      "text/plain": [
       "                                                                0  \\\n",
       "video_id                                              -6Zc8Co2H3w   \n",
       "title            Honest Trailers - Star Trek: The Next Generation   \n",
       "channel_title                                      Screen Junkies   \n",
       "category_id                                                     1   \n",
       "tags            screen junkies|screenjunkies|sj news|honest tr...   \n",
       "views                                                     1547293   \n",
       "likes                                                       42960   \n",
       "dislikes                                                     1075   \n",
       "comment_total                                                7498   \n",
       "thumbnail_link     https://i.ytimg.com/vi/-6Zc8Co2H3w/default.jpg   \n",
       "date                                                        28.09   \n",
       "\n",
       "                                                                1  \\\n",
       "video_id                                              -6Zc8Co2H3w   \n",
       "title            Honest Trailers - Star Trek: The Next Generation   \n",
       "channel_title                                      Screen Junkies   \n",
       "category_id                                                     1   \n",
       "tags            screen junkies|screenjunkies|sj news|honest tr...   \n",
       "views                                                     1764868   \n",
       "likes                                                       46524   \n",
       "dislikes                                                     1183   \n",
       "comment_total                                                6152   \n",
       "thumbnail_link     https://i.ytimg.com/vi/-6Zc8Co2H3w/default.jpg   \n",
       "date                                                        29.09   \n",
       "\n",
       "                                                                2  \n",
       "video_id                                              -6Zc8Co2H3w  \n",
       "title            Honest Trailers - Star Trek: The Next Generation  \n",
       "channel_title                                      Screen Junkies  \n",
       "category_id                                                     1  \n",
       "tags            screen junkies|screenjunkies|sj news|honest tr...  \n",
       "views                                                     1870380  \n",
       "likes                                                       48211  \n",
       "dislikes                                                     1243  \n",
       "comment_total                                                6526  \n",
       "thumbnail_link     https://i.ytimg.com/vi/-6Zc8Co2H3w/default.jpg  \n",
       "date                                                        30.09  "
      ]
     },
     "execution_count": 170,
     "metadata": {},
     "output_type": "execute_result"
    }
   ],
   "source": [
    "#! Doubles in videos dataframe happens!\n",
    "df = videos_src.where(\"video_id like '-6Zc8Co2H3w'\").orderBy('video_id')\n",
    "df.cache().show(11, 33)\n",
    "df.limit(3).toPandas().T"
   ]
  },
  {
   "cell_type": "code",
   "execution_count": 171,
   "id": "30e5e61e-81a3-4c45-aba1-a10be88083b7",
   "metadata": {},
   "outputs": [
    {
     "name": "stdout",
     "output_type": "stream",
     "text": [
      "+-----------+-----------+---------------------------------+-------+------+--------+\n",
      "|   video_id|category_id|                             tags|  views| likes|dislikes|\n",
      "+-----------+-----------+---------------------------------+-------+------+--------+\n",
      "|-6Zc8Co2H3w|          1|screen junkies|screenjunkies|s...|7139354|187351|    4788|\n",
      "+-----------+-----------+---------------------------------+-------+------+--------+\n",
      "\n"
     ]
    },
    {
     "data": {
      "text/html": [
       "<div>\n",
       "<style scoped>\n",
       "    .dataframe tbody tr th:only-of-type {\n",
       "        vertical-align: middle;\n",
       "    }\n",
       "\n",
       "    .dataframe tbody tr th {\n",
       "        vertical-align: top;\n",
       "    }\n",
       "\n",
       "    .dataframe thead th {\n",
       "        text-align: right;\n",
       "    }\n",
       "</style>\n",
       "<table border=\"1\" class=\"dataframe\">\n",
       "  <thead>\n",
       "    <tr style=\"text-align: right;\">\n",
       "      <th></th>\n",
       "      <th>0</th>\n",
       "    </tr>\n",
       "  </thead>\n",
       "  <tbody>\n",
       "    <tr>\n",
       "      <th>video_id</th>\n",
       "      <td>-6Zc8Co2H3w</td>\n",
       "    </tr>\n",
       "    <tr>\n",
       "      <th>category_id</th>\n",
       "      <td>1</td>\n",
       "    </tr>\n",
       "    <tr>\n",
       "      <th>tags</th>\n",
       "      <td>screen junkies|screenjunkies|sj news|honest tr...</td>\n",
       "    </tr>\n",
       "    <tr>\n",
       "      <th>views</th>\n",
       "      <td>7139354</td>\n",
       "    </tr>\n",
       "    <tr>\n",
       "      <th>likes</th>\n",
       "      <td>187351</td>\n",
       "    </tr>\n",
       "    <tr>\n",
       "      <th>dislikes</th>\n",
       "      <td>4788</td>\n",
       "    </tr>\n",
       "  </tbody>\n",
       "</table>\n",
       "</div>"
      ],
      "text/plain": [
       "                                                             0\n",
       "video_id                                           -6Zc8Co2H3w\n",
       "category_id                                                  1\n",
       "tags         screen junkies|screenjunkies|sj news|honest tr...\n",
       "views                                                  7139354\n",
       "likes                                                   187351\n",
       "dislikes                                                  4788"
      ]
     },
     "execution_count": 171,
     "metadata": {},
     "output_type": "execute_result"
    }
   ],
   "source": [
    "videos = videos_src.select('video_id', 'views', 'likes', 'dislikes', 'category_id', 'tags'\n",
    "                    ).groupBy('video_id', 'category_id', 'tags'\n",
    "                    ).agg( sum('views').alias('views'), sum('likes').alias('likes'), sum('dislikes').alias('dislikes'),\n",
    ").cache()\n",
    "df = videos\n",
    "df = df.where(\"video_id like '-6Zc8Co2H3w'\").orderBy('video_id')\n",
    "df.cache().show(11, 33)\n",
    "df.limit(3).toPandas().T"
   ]
  },
  {
   "cell_type": "code",
   "execution_count": 265,
   "id": "d7fa8c3c-3922-46cc-943e-bc68a8b16048",
   "metadata": {},
   "outputs": [
    {
     "name": "stdout",
     "output_type": "stream",
     "text": [
      "+-----------+--------+------+--------+-----------+-------------------------------------------------------+-------+\n",
      "|   video_id|   views| likes|dislikes|category_id|                                                   tags|likes_c|\n",
      "+-----------+--------+------+--------+-----------+-------------------------------------------------------+-------+\n",
      "|4yCkkOvIkUI|   12905|    59|      43|         24|                                                 [none]|     36|\n",
      "|7TN09IP5JuI|20785005|869092|    8855|         26|First we feast|fwf|firstwefeast|food|food porn|cook|...|     34|\n",
      "|Bo-qp-Zu0OY|   21654|   179|       1|         19|talking mickey|talking donald|talking minnie|dca|dis...|     71|\n",
      "+-----------+--------+------+--------+-----------+-------------------------------------------------------+-------+\n",
      "only showing top 3 rows\n",
      "\n"
     ]
    }
   ],
   "source": [
    "# 1 scored_videos - датасет на USvideos.csv\n",
    "#  - с добавлением колонки, содержащей скор (показатель качества) видео:\n",
    "#    - ФОРМУЛА должна включать в себя\n",
    "#      - просмотры,\n",
    "#      - лайки, дизлайки видео,\n",
    "#      - лайки и дизлайки к комментариям к видео\n",
    "\n",
    "# videos = videos_src\n",
    "\n",
    "# Make repartition for videos and bucketing both by 100 partitions/buckets for comments 1st for optimizing JOIN\n",
    "videos = videos.repartition(100)\n",
    "comments_by_video = comments_by_video.repartitionByRange(100, \"video_id\")\n",
    "\n",
    "videos = (\n",
    "    videos.select('video_id', 'views', 'likes', 'dislikes', 'category_id', 'tags'\\\n",
    "         ).join(comments_by_video\n",
    "                .select('video_id', col('sum(likes)').alias('likes_c'),  # col('dislikes').alias('dislikes_c')  - не нашёл 🤔\n",
    "                ),\n",
    "                on='video_id', how='left'\n",
    "         ).select('video_id', 'views', 'likes', 'dislikes', 'category_id', 'tags',\n",
    "                  coalesce(col('likes_c'), lit(0)).alias('likes_c'))\n",
    ")\n",
    "videos.cache().show(3, 55)"
   ]
  },
  {
   "cell_type": "code",
   "execution_count": 261,
   "id": "6756a39e-a31c-4baa-a621-e2be2bfc4974",
   "metadata": {},
   "outputs": [
    {
     "name": "stdout",
     "output_type": "stream",
     "text": [
      "+-----------+-------+------+--------+-----------+---------------------------------+-------+-------------------+---------------------------------+\n",
      "|   video_id|  views| likes|dislikes|category_id|                             tags|likes_c|              score|                       tags_array|\n",
      "+-----------+-------+------+--------+-----------+---------------------------------+-------+-------------------+---------------------------------+\n",
      "|J0sg_Au8zX8|   8741|   182|       2|         24|nbc this is us|this is us afte...|   1792|0.22560347786294474|[nbc this is us, this is us af...|\n",
      "|TSxt2_QM4N4|1624869|318826|    1983|         10|             LAY|레이|SHEEP|羊|MV|     37|0.19501879843852027|       [LAY, 레이, SHEEP, 羊, MV]|\n",
      "|JdqUUKEATiw|  20722|  3335|      19|          1|callmekat|katarzyna napiórkows...|    636|0.19071518193224593|[callmekat, katarzyna napiórko...|\n",
      "+-----------+-------+------+--------+-----------+---------------------------------+-------+-------------------+---------------------------------+\n",
      "only showing top 3 rows\n",
      "\n",
      "+-----------+-------+-----+--------+-----------+---------------------------------+-------+--------------------+---------------------------------+\n",
      "|   video_id|  views|likes|dislikes|category_id|                             tags|likes_c|               score|                       tags_array|\n",
      "+-----------+-------+-----+--------+-----------+---------------------------------+-------+--------------------+---------------------------------+\n",
      "|frv64BFwGFY| 238531|   39|      22|         24|Kmart|deals|savings|discount|c...|      0|7.126956244680985E-5|[Kmart, deals, savings, discou...|\n",
      "|tUPR5-igTVY|4697829|    0|       0|         22|dear hate|charity|las vegas ch...|    412|8.770008444326091E-5|[dear hate, charity, las vegas...|\n",
      "|o4os5TXo6Vk|1011582|    0|       0|         10|                           [none]|     97| 9.58894088665081E-5|                         [[none]]|\n",
      "+-----------+-------+-----+--------+-----------+---------------------------------+-------+--------------------+---------------------------------+\n",
      "only showing top 3 rows\n",
      "\n"
     ]
    },
    {
     "data": {
      "text/plain": [
       "2415"
      ]
     },
     "execution_count": 261,
     "metadata": {},
     "output_type": "execute_result"
    }
   ],
   "source": [
    "# 1) score = (likes - dislikes + likes-comments) / views \n",
    "videos = videos.withColumn('score', (col('likes') - col('dislikes') + col('likes_c')) / col('views'))\n",
    "videos.orderBy(desc('score')).cache().show(3, 33)\n",
    "videos.where('score > 0').orderBy(asc('score')).cache().show(3, 33)\n",
    "videos.cache().count()"
   ]
  },
  {
   "cell_type": "code",
   "execution_count": 174,
   "id": "3b9adbfc-da4e-437b-af20-c58bc41e2a1a",
   "metadata": {},
   "outputs": [
    {
     "name": "stdout",
     "output_type": "stream",
     "text": [
      "{\n",
      " \"kind\": \"youtube#videoCategoryListResponse\",\n",
      " \"etag\": \"\\\"m2yskBQFythfE4irbTIeOgYYfBU/S730Ilt-Fi-emsQJvJAAShlR6hM\\\"\",\n",
      " \"items\": [\n",
      "  {\n",
      "   \"kind\": \"youtube#videoCategory\",\n",
      "   \"etag\": \"\\\"m2yskBQFythfE4irbTIeOgYYfBU/Xy1mB4_yLrHy_BmKmPBggty2mZQ\\\"\",\n",
      "   \"id\": \"1\",\n",
      "   \"snippet\": {\n",
      "    \"channelId\": \"UCBR8-60-B28hp2BmDPdntcQ\",\n",
      "    \"title\": \"Film & Animation\",\n",
      "...\n"
     ]
    }
   ],
   "source": [
    "# Research file with categories:..\n",
    "!head -n 11 datasets/US_category_id.json\n",
    "!echo ..."
   ]
  },
  {
   "cell_type": "markdown",
   "id": "73ff874c-05bd-4de3-a270-696f46c4e92c",
   "metadata": {},
   "source": [
    "### мда... тут без \"помощи Друзя\" никак 😅🤓"
   ]
  },
  {
   "cell_type": "markdown",
   "id": "7856beca-f00b-4259-af95-9035e5a21cbc",
   "metadata": {},
   "source": [
    "#### https://chat.openai.com/c/fac3b2e7-81c4-4ef5-9cdd-120a459b0fcf\n",
    "how to exctract to spark dataframe with 2 cols:\n",
    "- category_id – from path: \"items\".\"id\" where \"kind\" = \"youtube#videoCategory\"\n",
    "- category_name – from path: \"items\".\"snippet\".\"title\" for category_id\n",
    "\n",
    "from this file:\n",
    "{ \"kind\": \"youtube#videoCategoryListResponse\",\n",
    " \"etag\": \"\\\"m2yskBQFythfE4irbTIeOgYYfBU/S730Ilt-Fi-emsQJvJAAShlR6hM\\\"\",.."
   ]
  },
  {
   "cell_type": "code",
   "execution_count": 175,
   "id": "afda89ee-d4cd-43a4-a5d2-129d8624f6c9",
   "metadata": {},
   "outputs": [
    {
     "name": "stdout",
     "output_type": "stream",
     "text": [
      "+-----------+----------------+\n",
      "|category_id|category_name   |\n",
      "+-----------+----------------+\n",
      "|1          |Film & Animation|\n",
      "|2          |Autos & Vehicles|\n",
      "|10         |Music           |\n",
      "|15         |Pets & Animals  |\n",
      "|17         |Sports          |\n",
      "+-----------+----------------+\n",
      "only showing top 5 rows\n",
      "\n"
     ]
    }
   ],
   "source": [
    "# 2) read categories from json\n",
    "df = spark.read.option(\"multiline\", \"true\").json(\"datasets/US_category_id.json\")\n",
    "\n",
    "df_exploded = df.select(explode(df.items).alias(\"item\"))\n",
    "\n",
    "categories_df = df_exploded.select(\n",
    "    df_exploded[\"item.id\"].alias(\"category_id\"),\n",
    "    df_exploded[\"item.snippet.title\"].alias(\"category_name\")\n",
    ")\n",
    "\n",
    "categories_df = categories_df.filter(df_exploded[\"item.kind\"] == \"youtube#videoCategory\")\n",
    "\n",
    "categories_df.cache().show(5, False)"
   ]
  },
  {
   "cell_type": "code",
   "execution_count": 176,
   "id": "4e725b5b-a4ed-4bc8-a10b-18f3846e520a",
   "metadata": {},
   "outputs": [
    {
     "name": "stdout",
     "output_type": "stream",
     "text": [
      "+-----------+--------+------+--------+-----------+---------------------------------+-------+--------------------+\n",
      "|   video_id|   views| likes|dislikes|category_id|                             tags|likes_c|               score|\n",
      "+-----------+--------+------+--------+-----------+---------------------------------+-------+--------------------+\n",
      "|4yCkkOvIkUI|   12905|    59|      43|         24|                           [none]|     36|0.004029445951181713|\n",
      "|7TN09IP5JuI|20785005|869092|    8855|         26|First we feast|fwf|firstwefeas...|     34|  0.0413890205944141|\n",
      "|Bo-qp-Zu0OY|   21654|   179|       1|         19|talking mickey|talking donald|...|     71|0.011499030202272097|\n",
      "+-----------+--------+------+--------+-----------+---------------------------------+-------+--------------------+\n",
      "only showing top 3 rows\n",
      "\n",
      "+-----------+----------------+\n",
      "|category_id|   category_name|\n",
      "+-----------+----------------+\n",
      "|          1|Film & Animation|\n",
      "|          2|Autos & Vehicles|\n",
      "|         10|           Music|\n",
      "+-----------+----------------+\n",
      "only showing top 3 rows\n",
      "\n"
     ]
    }
   ],
   "source": [
    "for df in (videos_src, categories_df): df.show(3, 33), df.count()"
   ]
  },
  {
   "cell_type": "code",
   "execution_count": 258,
   "id": "cb70a0fb-5776-4baa-9834-501ab9685b23",
   "metadata": {},
   "outputs": [
    {
     "name": "stdout",
     "output_type": "stream",
     "text": [
      "DataFrame[video_id: string, views: bigint, likes: bigint, dislikes: bigint, category_id: int, tags: string, likes_c: bigint, score: double, tags_array: string]:\n",
      "2415 rows total\n"
     ]
    },
    {
     "data": {
      "text/html": [
       "<div>\n",
       "<style scoped>\n",
       "    .dataframe tbody tr th:only-of-type {\n",
       "        vertical-align: middle;\n",
       "    }\n",
       "\n",
       "    .dataframe tbody tr th {\n",
       "        vertical-align: top;\n",
       "    }\n",
       "\n",
       "    .dataframe thead th {\n",
       "        text-align: right;\n",
       "    }\n",
       "</style>\n",
       "<table border=\"1\" class=\"dataframe\">\n",
       "  <thead>\n",
       "    <tr style=\"text-align: right;\">\n",
       "      <th></th>\n",
       "      <th>video_id</th>\n",
       "      <th>views</th>\n",
       "      <th>likes</th>\n",
       "      <th>dislikes</th>\n",
       "      <th>category_id</th>\n",
       "      <th>tags</th>\n",
       "      <th>likes_c</th>\n",
       "      <th>score</th>\n",
       "      <th>tags_array</th>\n",
       "    </tr>\n",
       "  </thead>\n",
       "  <tbody>\n",
       "    <tr>\n",
       "      <th>0</th>\n",
       "      <td>4yCkkOvIkUI</td>\n",
       "      <td>12905</td>\n",
       "      <td>59</td>\n",
       "      <td>43</td>\n",
       "      <td>24</td>\n",
       "      <td>[none]</td>\n",
       "      <td>36</td>\n",
       "      <td>0.004029</td>\n",
       "      <td>[[none]]</td>\n",
       "    </tr>\n",
       "    <tr>\n",
       "      <th>1</th>\n",
       "      <td>7TN09IP5JuI</td>\n",
       "      <td>20785005</td>\n",
       "      <td>869092</td>\n",
       "      <td>8855</td>\n",
       "      <td>26</td>\n",
       "      <td>First we feast|fwf|firstwefeast|food|food porn...</td>\n",
       "      <td>34</td>\n",
       "      <td>0.041389</td>\n",
       "      <td>[First we feast, fwf, firstwefeast, food, food...</td>\n",
       "    </tr>\n",
       "  </tbody>\n",
       "</table>\n",
       "</div>"
      ],
      "text/plain": [
       "      video_id     views   likes  dislikes  category_id  \\\n",
       "0  4yCkkOvIkUI     12905      59        43           24   \n",
       "1  7TN09IP5JuI  20785005  869092      8855           26   \n",
       "\n",
       "                                                tags  likes_c     score  \\\n",
       "0                                             [none]       36  0.004029   \n",
       "1  First we feast|fwf|firstwefeast|food|food porn...       34  0.041389   \n",
       "\n",
       "                                          tags_array  \n",
       "0                                           [[none]]  \n",
       "1  [First we feast, fwf, firstwefeast, food, food...  "
      ]
     },
     "metadata": {},
     "output_type": "display_data"
    },
    {
     "name": "stdout",
     "output_type": "stream",
     "text": [
      "\n",
      "DataFrame[category_id: string, category_name: string]:\n",
      "32 rows total\n"
     ]
    },
    {
     "data": {
      "text/html": [
       "<div>\n",
       "<style scoped>\n",
       "    .dataframe tbody tr th:only-of-type {\n",
       "        vertical-align: middle;\n",
       "    }\n",
       "\n",
       "    .dataframe tbody tr th {\n",
       "        vertical-align: top;\n",
       "    }\n",
       "\n",
       "    .dataframe thead th {\n",
       "        text-align: right;\n",
       "    }\n",
       "</style>\n",
       "<table border=\"1\" class=\"dataframe\">\n",
       "  <thead>\n",
       "    <tr style=\"text-align: right;\">\n",
       "      <th></th>\n",
       "      <th>category_id</th>\n",
       "      <th>category_name</th>\n",
       "    </tr>\n",
       "  </thead>\n",
       "  <tbody>\n",
       "    <tr>\n",
       "      <th>0</th>\n",
       "      <td>1</td>\n",
       "      <td>Film &amp; Animation</td>\n",
       "    </tr>\n",
       "    <tr>\n",
       "      <th>1</th>\n",
       "      <td>2</td>\n",
       "      <td>Autos &amp; Vehicles</td>\n",
       "    </tr>\n",
       "  </tbody>\n",
       "</table>\n",
       "</div>"
      ],
      "text/plain": [
       "  category_id     category_name\n",
       "0           1  Film & Animation\n",
       "1           2  Autos & Vehicles"
      ]
     },
     "metadata": {},
     "output_type": "display_data"
    },
    {
     "name": "stdout",
     "output_type": "stream",
     "text": [
      "\n"
     ]
    }
   ],
   "source": [
    "from loguru import logger as log\n",
    "@log.catch\n",
    "def show_dfs(*dff, rows=1, width=33):\n",
    "  try:\n",
    "    if len(dff) == 1: dff = dff[0]\n",
    "    if isinstance(dff, str): dff = dff.split(' ')\n",
    "        \n",
    "    for dfn in dff: #df = eval(dfn); \\\n",
    "      if isinstance(dfn, str):\n",
    "        print(dfn, f\"{(df := eval(dfn)).count()} rows\", sep=': '), print( \n",
    "              display(df.cache().limit(rows).toPandas()) or '',\n",
    "              )\n",
    "      elif isinstance(dfn, pyspark.sql.DataFrame):\n",
    "         print((df:=dfn), f\"{df.count()} rows total\", sep=':\\n'), print( \n",
    "              display(df.cache().limit(rows).toPandas()) or '',\n",
    "              )\n",
    "\n",
    "      else: raise TypeError(f\"{dfn=}\")\n",
    "  except: print(f\"{dff=}\"), traceback.print_exc()\n",
    "\n",
    "show_dfs(videos, categories_df, rows=2)"
   ]
  },
  {
   "cell_type": "code",
   "execution_count": 256,
   "id": "c33507ae-2c75-47b5-a84d-a94e1214eff0",
   "metadata": {},
   "outputs": [
    {
     "name": "stdout",
     "output_type": "stream",
     "text": [
      "+--------------------+--------------------+\n",
      "|category_name       |median_score        |\n",
      "+--------------------+--------------------+\n",
      "|Music               |0.04894056846823924 |\n",
      "|Howto & Style       |0.04882180089464523 |\n",
      "|Comedy              |0.035756360280687134|\n",
      "|Education           |0.03489027472227778 |\n",
      "|Pets & Animals      |0.03188342746845286 |\n",
      "|People & Blogs      |0.029420258570009714|\n",
      "|Science & Technology|0.025101531745246066|\n",
      "|Film & Animation    |0.02258567556529165 |\n",
      "|Gaming              |0.022566618082282008|\n",
      "|Travel & Events     |0.022412075703011264|\n",
      "|Entertainment       |0.020693893364327413|\n",
      "+--------------------+--------------------+\n",
      "only showing top 11 rows\n",
      "\n"
     ]
    }
   ],
   "source": [
    "# 2) categories_score - по категориям, в котором поля: \n",
    "#  - Название категории (не id) -  в US_category_id.json\n",
    "#  - Медиана показателя score из scored_videos по каждой категории\n",
    "\n",
    "# Join scored_videos and categories_df on category_id\n",
    "videos_with_categories = videos.join(broadcast(categories_df), on='category_id', how='left')\n",
    "\n",
    "# Compute median\n",
    "median_scores = videos_with_categories.groupby(\"category_name\").agg(\n",
    "    expr('percentile_approx(score, 0.5)').alias('median_score')\n",
    ")\n",
    "\n",
    "median_scores.orderBy(desc('median_score')).cache().show(11, False)"
   ]
  },
  {
   "cell_type": "markdown",
   "id": "6d5aa711-9882-44ed-94f9-17544d4356dc",
   "metadata": {},
   "source": [
    "### - 7 Для расчета медианы нельзя использовать встроенную Spark-функцию median из пакета pyspark.sql.functions...\n",
    "\n",
    "Ок, оставим её только для сверки)"
   ]
  },
  {
   "cell_type": "code",
   "execution_count": 178,
   "id": "ee53698e-d1b9-4104-86a4-b56d8035ae06",
   "metadata": {},
   "outputs": [
    {
     "name": "stdout",
     "output_type": "stream",
     "text": [
      "+--------------------+--------------------+\n",
      "|category_name       |median_score        |\n",
      "+--------------------+--------------------+\n",
      "|Howto & Style       |0.048975267792669364|\n",
      "|Music               |0.03978118460448949 |\n",
      "|Comedy              |0.035756360280687134|\n",
      "|Education           |0.03489027472227778 |\n",
      "|Pets & Animals      |0.03188342746845286 |\n",
      "|People & Blogs      |0.029489108496292302|\n",
      "|Science & Technology|0.02543212129949589 |\n",
      "|Travel & Events     |0.023733134052269893|\n",
      "|Film & Animation    |0.022960721689022617|\n",
      "|Gaming              |0.022566618082282008|\n",
      "|Entertainment       |0.020693893364327413|\n",
      "+--------------------+--------------------+\n",
      "only showing top 11 rows\n",
      "\n"
     ]
    },
    {
     "name": "stderr",
     "output_type": "stream",
     "text": [
      "/usr/local/spark/python/pyspark/sql/pandas/functions.py:399: UserWarning: In Python 3.6+ and Spark 3.0+, it is preferred to specify type hints for pandas UDF instead of specifying pandas UDF type which will be deprecated in the future releases. See SPARK-28264 for more details.\n",
      "  warnings.warn(\n"
     ]
    }
   ],
   "source": [
    "# Create Pandas UDF for median\n",
    "from pyspark.sql.functions import * #pandas_udf, PandasUDFType, groupBy as groupby\n",
    "import pandas as pd, statistics\n",
    "\n",
    "@pandas_udf('double', PandasUDFType.GROUPED_AGG)\n",
    "def median_score(score: pd.Series) -> float: return statistics.median(score)\n",
    "\n",
    "scored_videos_with_category_name = videos.join(broadcast(categories_df), on='category_id')\n",
    "\n",
    "category_score_median = scored_videos_with_category_name.groupby('category_name').agg(median_score(scored_videos_with_category_name['score']).alias('median_score'))\n",
    "\n",
    "category_score_median.orderBy(desc('median_score')).cache().show(11, False)"
   ]
  },
  {
   "cell_type": "code",
   "execution_count": 179,
   "id": "7a6b293d-2bba-4d66-b78c-5562716c8c66",
   "metadata": {},
   "outputs": [
    {
     "name": "stdout",
     "output_type": "stream",
     "text": [
      "+--------------------+--------------------+--------------------+---------------------+\n",
      "|category_name       |median_score        |median_score_pd     |median_scores_diff   |\n",
      "+--------------------+--------------------+--------------------+---------------------+\n",
      "|Howto & Style       |0.048975267792669364|0.04882180089464523 |1.5346689802413216E-4|\n",
      "|Music               |0.03978118460448949 |0.04894056846823924 |-0.009159383863749752|\n",
      "|Comedy              |0.035756360280687134|0.035756360280687134|0.0                  |\n",
      "|Education           |0.03489027472227778 |0.03489027472227778 |0.0                  |\n",
      "|Pets & Animals      |0.03188342746845286 |0.03188342746845286 |0.0                  |\n",
      "|People & Blogs      |0.029489108496292302|0.029420258570009714|6.884992628258813E-5 |\n",
      "|Science & Technology|0.02543212129949589 |0.025101531745246066|3.305895542498223E-4 |\n",
      "|Travel & Events     |0.023733134052269893|0.022412075703011264|0.001321058349258629 |\n",
      "|Film & Animation    |0.022960721689022617|0.02258567556529165 |3.7504612373096685E-4|\n",
      "|Gaming              |0.022566618082282008|0.022566618082282008|0.0                  |\n",
      "|Entertainment       |0.020693893364327413|0.020693893364327413|0.0                  |\n",
      "+--------------------+--------------------+--------------------+---------------------+\n",
      "only showing top 11 rows\n",
      "\n"
     ]
    }
   ],
   "source": [
    "# Compare builtin and own UDF medians\n",
    "category_score_median.join(median_scores, on='category_name'\n",
    "    ).select(category_score_median['*'], median_scores['median_score'].alias('median_score_pd'),\n",
    "             (category_score_median['median_score'] - median_scores['median_score']).alias('median_scores_diff')\n",
    "    ).orderBy(desc('median_score')).cache().show(11, False)"
   ]
  },
  {
   "cell_type": "markdown",
   "id": "b60cf1bf-d2d1-41bb-b71e-5e4e6f5fb5f0",
   "metadata": {},
   "source": [
    "## ! Почему-то в 2-й строке довольно большой расходняк! 😅🤔 Ну да ладно... 🤓"
   ]
  },
  {
   "cell_type": "code",
   "execution_count": 180,
   "id": "29de19cd-0132-4f95-b1c2-c6190d8f2158",
   "metadata": {},
   "outputs": [
    {
     "name": "stdout",
     "output_type": "stream",
     "text": [
      "+-----------+-----------+-------+------+--------+--------------------------------------------+-------+---------------------+--------------------+\n",
      "|category_id|   video_id|  views| likes|dislikes|                                        tags|likes_c|                score|       category_name|\n",
      "+-----------+-----------+-------+------+--------+--------------------------------------------+-------+---------------------+--------------------+\n",
      "|         28|CAQ2wWVlOuc| 146015|  1811|     396|Tech Insider|TI|Tech|Science|Innovation|D...|    923| 0.016012053556141492|Science & Technology|\n",
      "|         28|9W0WPPpCFaM| 209228|  7829|     237|vox.com|vox|explain|sense|perception|soph...|      9|  0.03632878964574531|Science & Technology|\n",
      "|         28|1L7JFN7tQLs|4961383|142040|    5573|Apple|iPhone X|iPhone 8|iPhone X unboxing...|   2019| 0.027912781577233606|Science & Technology|\n",
      "|         28|B9SptdjpJBQ|4559747|220177|    2311|Learning tricks|ways to learn faster|best...|     62|  0.04779387979201478|Science & Technology|\n",
      "|         28|WYYvHb03Eog|2642103| 24975|    4542|apple iphone x hands on|Apple iPhone X|iP...|    158|0.0077934130501346845|Science & Technology|\n",
      "+-----------+-----------+-------+------+--------+--------------------------------------------+-------+---------------------+--------------------+\n",
      "only showing top 5 rows\n",
      "\n",
      "root\n",
      " |-- category_id: integer (nullable = true)\n",
      " |-- video_id: string (nullable = true)\n",
      " |-- views: long (nullable = true)\n",
      " |-- likes: long (nullable = true)\n",
      " |-- dislikes: long (nullable = true)\n",
      " |-- tags: string (nullable = true)\n",
      " |-- likes_c: long (nullable = false)\n",
      " |-- score: double (nullable = true)\n",
      " |-- category_name: string (nullable = true)\n",
      "\n"
     ]
    }
   ],
   "source": [
    "videos_df = videos_with_categories\n",
    "videos_df.show(5, 44)\n",
    "videos_df.printSchema()"
   ]
  },
  {
   "cell_type": "code",
   "execution_count": 181,
   "id": "4b287dc2-ae97-4728-ae6f-b053409d0b84",
   "metadata": {},
   "outputs": [
    {
     "name": "stdout",
     "output_type": "stream",
     "text": [
      "+-----------+-----------+--------+-------+--------+-------------------------------------------------------+-------+--------------------+-------------+\n",
      "|category_id|   video_id|   views|  likes|dislikes|                                                   tags|likes_c|               score|category_name|\n",
      "+-----------+-----------+--------+-------+--------+-------------------------------------------------------+-------+--------------------+-------------+\n",
      "|         24|4yCkkOvIkUI|   12905|     59|      43|                                                 [none]|     36|0.004029445951181713|Entertainment|\n",
      "|         24|eHq6ZA6uKOg|  135189|   1156|     374|American Broadcasting Company|ABC|ABC Network|Televi...|    797|0.011679944374172455|Entertainment|\n",
      "|         24|3y5A4paFOb4|85451527|5980546|  551334|logan paul vlog|logan paul|logan|paul|olympics|logan...|    127| 0.06353706236285281|Entertainment|\n",
      "|         24|GbhdRYQz9-0|  261483|   2045|      25|                                           foo fighters|    300|0.008872469720784908|Entertainment|\n",
      "|         24|lSsTCiC93WI| 3880004| 134585|    7082|channel awesome|nostalgia critic|doug walker|movie|m...|   3380| 0.03373269718278641|Entertainment|\n",
      "+-----------+-----------+--------+-------+--------+-------------------------------------------------------+-------+--------------------+-------------+\n",
      "only showing top 5 rows\n",
      "\n"
     ]
    },
    {
     "data": {
      "text/plain": [
       "(2415, None)"
      ]
     },
     "execution_count": 181,
     "metadata": {},
     "output_type": "execute_result"
    }
   ],
   "source": [
    "# Save to disk for reusing, if'll be needed\n",
    "!rm -r spark-warehouse/videos\n",
    "if 'videos' in [a.name for a in spark.catalog.listTables()]:\n",
    "    spark.sql(\"drop table videos\")\n",
    "videos_df.write.saveAsTable('videos', partitionBy='category_name') #, mode='overwrite')\n",
    "videos_df = spark.table('videos')\n",
    "videos_df.cache().count(), \\\n",
    "videos_df.show(5, 55)"
   ]
  },
  {
   "cell_type": "code",
   "execution_count": 182,
   "id": "fd865e72-487b-4a4c-bbc6-482762e014f6",
   "metadata": {},
   "outputs": [],
   "source": [
    "# 3) popular_tags - по самым популярным тэгам\n",
    "  # - название тэга + количество видео с этим тэгом\n",
    "  #   ! тэги лежат строкой в поле tags\n",
    "  #     - Scala-функцию для разбиения тегов: \n",
    "  #       - Но напишите свою UDF-функцию разбиения строки на тэги\n",
    "  #       - и сравните время работы с её Scala-версией.\n",
    "  #         - Можно замерять своими силами,\n",
    "  #           - а можно воспользоваться библиотекой timeit\n",
    "  #           - функции Spark из пакета pyspark.sq.functions использовать нельзя,\n",
    "  #             - нужно написать свою функцию."
   ]
  },
  {
   "cell_type": "code",
   "execution_count": 183,
   "id": "e4f62878-13c5-4176-b598-fdaa876885e0",
   "metadata": {},
   "outputs": [
    {
     "name": "stdout",
     "output_type": "stream",
     "text": [
      "root\n",
      " |-- video_id: string (nullable = true)\n",
      " |-- views: long (nullable = true)\n",
      " |-- likes: long (nullable = true)\n",
      " |-- dislikes: long (nullable = true)\n",
      " |-- category_id: integer (nullable = true)\n",
      " |-- tags: string (nullable = true)\n",
      " |-- likes_c: long (nullable = false)\n",
      " |-- score: double (nullable = true)\n",
      "\n",
      "+-----------+--------+------+--------+-----------+---------------------------------+-------+--------------------+\n",
      "|   video_id|   views| likes|dislikes|category_id|                             tags|likes_c|               score|\n",
      "+-----------+--------+------+--------+-----------+---------------------------------+-------+--------------------+\n",
      "|7TN09IP5JuI|20785005|869092|    8855|         26|First we feast|fwf|firstwefeas...|     34|  0.0413890205944141|\n",
      "|Bo-qp-Zu0OY|   21654|   179|       1|         19|talking mickey|talking donald|...|     71|0.011499030202272097|\n",
      "|JkqTeQHFoBY|  431082|  4694|      43|          1|marvel|vfx|CG|CGI|Animation|Gu...|    558|0.012083547909678437|\n",
      "+-----------+--------+------+--------+-----------+---------------------------------+-------+--------------------+\n",
      "only showing top 3 rows\n",
      "\n"
     ]
    }
   ],
   "source": [
    "%%skip_err\n",
    "videos.printSchema()\n",
    "videos.where(f\"tags is not null and tags != '[none]'\").show(3, 33)"
   ]
  },
  {
   "cell_type": "code",
   "execution_count": 184,
   "id": "2af6fa24-fe7d-4a06-a122-c74081af233d",
   "metadata": {},
   "outputs": [],
   "source": [
    "def split_tags_simple(tags_str): return tags_str.split('|')\n",
    "\n",
    "# Create a UDF from the Python function\n",
    "split_tags_simple = udf(split_tags_simple)\n",
    "\n",
    "# Now you can use this UDF in your DataFrame transformations\n",
    "videos = videos.withColumn('tags_array', split_tags_simple(videos['tags']))"
   ]
  },
  {
   "cell_type": "code",
   "execution_count": 185,
   "id": "38d5ef2a-8645-4ea9-8b60-b9d03c5d18d9",
   "metadata": {},
   "outputs": [],
   "source": [
    "# так, пришла помощь из зала..\n",
    "from pyspark.sql.functions import pandas_udf, PandasUDFType, explode\n",
    "from pyspark.sql import DataFrame\n",
    "import pandas as pd\n",
    "\n",
    "@pandas_udf('array<string>', PandasUDFType.SCALAR)\n",
    "def split_tags(tags_series: pd.Series) -> pd.Series: return tags_series.str.split('|')\n",
    "#..."
   ]
  },
  {
   "cell_type": "code",
   "execution_count": 186,
   "id": "3a372b56-1a3d-4a97-b2d9-728db039ba95",
   "metadata": {},
   "outputs": [
    {
     "name": "stdout",
     "output_type": "stream",
     "text": [
      "552 ms ± 20.9 ms per loop (mean ± std. dev. of 7 runs, 1 loop each)\n"
     ]
    }
   ],
   "source": [
    "%%timeit\n",
    "# - 8 Для функции разделения тегов должны быть представлены выводы по сравнению времени работы обычной и scala-версии.\n",
    "videos.select(split_tags('tags')).count()"
   ]
  },
  {
   "cell_type": "code",
   "execution_count": 187,
   "id": "83f0ce47-86e7-4973-b75e-601a0b9f6033",
   "metadata": {},
   "outputs": [
    {
     "name": "stdout",
     "output_type": "stream",
     "text": [
      "+-----------+--------+------+--------+-----------+---------------------------------+-------+--------------------+---------------------------------+\n",
      "|   video_id|   views| likes|dislikes|category_id|                             tags|likes_c|               score|                       tags_array|\n",
      "+-----------+--------+------+--------+-----------+---------------------------------+-------+--------------------+---------------------------------+\n",
      "|4yCkkOvIkUI|   12905|    59|      43|         24|                           [none]|     36|0.004029445951181713|                         [[none]]|\n",
      "|7TN09IP5JuI|20785005|869092|    8855|         26|First we feast|fwf|firstwefeas...|     34|  0.0413890205944141|[First we feast, fwf, firstwef...|\n",
      "|Bo-qp-Zu0OY|   21654|   179|       1|         19|talking mickey|talking donald|...|     71|0.011499030202272097|[talking mickey, talking donal...|\n",
      "+-----------+--------+------+--------+-----------+---------------------------------+-------+--------------------+---------------------------------+\n",
      "only showing top 3 rows\n",
      "\n",
      "+-----------+--------+------+--------+-----------+---------------------------------+-------+--------------------+---------------------------------+--------------+\n",
      "|   video_id|   views| likes|dislikes|category_id|                             tags|likes_c|               score|                       tags_array|           tag|\n",
      "+-----------+--------+------+--------+-----------+---------------------------------+-------+--------------------+---------------------------------+--------------+\n",
      "|4yCkkOvIkUI|   12905|    59|      43|         24|                           [none]|     36|0.004029445951181713|                         [[none]]|        [none]|\n",
      "|7TN09IP5JuI|20785005|869092|    8855|         26|First we feast|fwf|firstwefeas...|     34|  0.0413890205944141|[First we feast, fwf, firstwef...|First we feast|\n",
      "|7TN09IP5JuI|20785005|869092|    8855|         26|First we feast|fwf|firstwefeas...|     34|  0.0413890205944141|[First we feast, fwf, firstwef...|           fwf|\n",
      "+-----------+--------+------+--------+-----------+---------------------------------+-------+--------------------+---------------------------------+--------------+\n",
      "only showing top 3 rows\n",
      "\n",
      "+------+-----+\n",
      "|   tag|count|\n",
      "+------+-----+\n",
      "| funny|  223|\n",
      "|comedy|  169|\n",
      "|[none]|  146|\n",
      "+------+-----+\n",
      "only showing top 3 rows\n",
      "\n"
     ]
    }
   ],
   "source": [
    "#...\n",
    "df = videos\n",
    "df = df.withColumn('tags_array', split_tags(df['tags']))\n",
    "df.cache().show(3, 33)\n",
    "videos_tagged = \\\n",
    "df = df.select('*',\n",
    "            explode(\n",
    "                df['tags_array']\n",
    "                   ).alias('tag')\n",
    "      )\n",
    "df.cache().show(3, 33)\n",
    "df.groupBy('tag').count().orderBy(desc('count')).show(3, 33)\n",
    "#` df.cache().where(\"tag is not null\").show(33, 33)"
   ]
  },
  {
   "cell_type": "markdown",
   "id": "f2add2e1-0f76-4c7c-ad2f-78a54b114403",
   "metadata": {},
   "source": [
    "## 4) И личная просьба от Марка: он любит котов (а кто не их не любит!) и хочет найти самые интересные комментарии (топ-5) к видео про котов. “Видео про котов” - видео, у которого есть тэг “cat”.\n"
   ]
  },
  {
   "cell_type": "code",
   "execution_count": 188,
   "id": "6e8458cf-4657-4771-be13-09a8ba4e5707",
   "metadata": {},
   "outputs": [
    {
     "name": "stdout",
     "output_type": "stream",
     "text": [
      "+---------------------+---+--------------------+\n",
      "|                  tag|cnt|           avg_score|\n",
      "+---------------------+---+--------------------+\n",
      "|            cute cats|  6| 0.04722702093219663|\n",
      "|          simons cats|  4|0.041777194456910055|\n",
      "|        animated cats|  4|0.041777194456910055|\n",
      "|           funny cats|  4|0.041777194456910055|\n",
      "|     every cat at 3am|  1|0.037682380723440656|\n",
      "|     funny cat videos|  1| 0.02781174432894123|\n",
      "|       crazy cat lady|  1| 0.07857096704209887|\n",
      "|simplynailogical cats|  1| 0.07857096704209887|\n",
      "|   dog kitten snuggle|  1| 0.03188342746845286|\n",
      "|murph bad cat allergy|  1| 0.04149633819515629|\n",
      "|      dog cat snuggle|  1| 0.03188342746845286|\n",
      "+---------------------+---+--------------------+\n",
      "only showing top 11 rows\n",
      "\n"
     ]
    }
   ],
   "source": [
    "from pyspark.sql.window import Window\n",
    "# window = Window.rowsBetween(Window.unboundedPreceding, Window.unboundedFollowing)\n",
    "top_cats_tags = (\n",
    "    videos_tagged['tag', 'score']\n",
    "        .where(\"regexp_like(tag, '.*[ ](cat|kitten)[ sty].*')\")\n",
    "        .groupBy('tag')\n",
    "        .agg( count(col('*')).alias('cnt'),\n",
    "              avg('score').alias('avg_score'),\n",
    "        )\n",
    "        # .withColumn('cnt_total', count('*').over(window))\n",
    "        .orderBy(desc('cnt'))\n",
    ")\n",
    "top_cats_tags.cache().show(11, 33)"
   ]
  },
  {
   "cell_type": "code",
   "execution_count": 189,
   "id": "738c17e2-f637-4b56-a598-2e50b219301e",
   "metadata": {},
   "outputs": [
    {
     "name": "stdout",
     "output_type": "stream",
     "text": [
      "+-----------+--------------------+------+-------+----------------------+--------------------+\n",
      "|   video_id|               score| likes|likes_c|                   tag|       tag_avg_score|\n",
      "+-----------+--------------------+------+-------+----------------------+--------------------+\n",
      "|msWS8WxRsrY| 0.07857096704209887|371259|     34|        crazy cat lady| 0.07857096704209887|\n",
      "|msWS8WxRsrY| 0.07857096704209887|371259|     34| simplynailogical cats| 0.07857096704209887|\n",
      "|msWS8WxRsrY| 0.07857096704209887|371259|     34|halloween cat costumes| 0.07857096704209887|\n",
      "|msWS8WxRsrY| 0.07857096704209887|371259|     34|             cute cats| 0.04722702093219663|\n",
      "|BY3SLVNBkeo| 0.05043145346953393| 23831|    136|             cute cats| 0.04722702093219663|\n",
      "|-1fzGnFwz9M| 0.04134858035836844|  7070|    874|             cute cats| 0.04722702093219663|\n",
      "|tp9aQXDFHbY| 0.03884812641337964| 43349|   1613|             cute cats| 0.04722702093219663|\n",
      "|odhMmAPDc54|0.037682380723440656|243364|  10257|             cute cats| 0.04722702093219663|\n",
      "|ruTB5jBGXsE| 0.03648061758635822| 95334|    116|             cute cats| 0.04722702093219663|\n",
      "|BY3SLVNBkeo| 0.05043145346953393| 23831|    136|           simons cats|0.041777194456910055|\n",
      "|BY3SLVNBkeo| 0.05043145346953393| 23831|    136|         animated cats|0.041777194456910055|\n",
      "+-----------+--------------------+------+-------+----------------------+--------------------+\n",
      "only showing top 11 rows\n",
      "\n"
     ]
    }
   ],
   "source": [
    "top_cats_videos_tagged = (videos_tagged\n",
    " .join(top_cats_tags, on='tag')\n",
    " .select('video_id', 'score', 'likes', 'likes_c', 'tag', \n",
    "         col('avg_score').alias('tag_avg_score')\n",
    ") ## .orderBy(map(desc, *(col(c) for c in 'tag_avg_score score likes likes_c'.split(' '))))\n",
    " .orderBy(desc('tag_avg_score'), desc('score'), desc('likes'), desc('likes_c'))\n",
    ")\n",
    "top_cats_videos_tagged .cache() .show(11, 33)"
   ]
  },
  {
   "cell_type": "code",
   "execution_count": 259,
   "id": "d94b0d02-bf5f-4f0c-8ac9-6af725644c2a",
   "metadata": {},
   "outputs": [
    {
     "name": "stdout",
     "output_type": "stream",
     "text": [
      "+-----------+--------------------+------+-------+\n",
      "|   video_id|               score| likes|likes_c|\n",
      "+-----------+--------------------+------+-------+\n",
      "|odhMmAPDc54|0.037682380723440656|243364|  10257|\n",
      "|tp9aQXDFHbY| 0.03884812641337964| 43349|   1613|\n",
      "|5qlSfNVp3fU| 0.02781174432894123| 35953|   1428|\n",
      "|-1fzGnFwz9M| 0.04134858035836844|  7070|    874|\n",
      "|BY3SLVNBkeo| 0.05043145346953393| 23831|    136|\n",
      "|ruTB5jBGXsE| 0.03648061758635822| 95334|    116|\n",
      "|msWS8WxRsrY| 0.07857096704209887|371259|     34|\n",
      "|veqMs7SQteY| 0.04149633819515629| 10385|     20|\n",
      "|1lOd7rDFYbc| 0.03188342746845286| 51685|     18|\n",
      "|oStLD-yYAy0| 0.02794867588149242|  8571|     17|\n",
      "+-----------+--------------------+------+-------+\n",
      "\n"
     ]
    }
   ],
   "source": [
    "top_cats_videos = top_cats_videos_tagged.drop(\n",
    "                   'tag'\n",
    "        ).drop(    'tag_avg_score'\n",
    "        ).distinct(    \n",
    "        ).orderBy(\n",
    "          ## desc('score'), desc('likes'), \n",
    "          desc('likes_c')\n",
    ")\n",
    "top_cats_videos.cache().show(11, 33)"
   ]
  },
  {
   "cell_type": "markdown",
   "id": "a81d8782-e91e-483b-bc68-d0cf4dc1eacb",
   "metadata": {},
   "source": [
    "## Блин! Нужны же не топ видео, а топ комментарии!.. 😅 Ну да ладно, предположим, что их как раз надо искать у топ видео... 🤓 Хотя у нас же не топ, а все видео!!! 😅"
   ]
  },
  {
   "cell_type": "code",
   "execution_count": 198,
   "id": "52f06ad3-4cb0-45b9-8ccd-9a3715732933",
   "metadata": {},
   "outputs": [
    {
     "name": "stdout",
     "output_type": "stream",
     "text": [
      "+-----------+-----------------------------------------------------------------------------------------------------------------------------------------------------------+-----+-------+\n",
      "|   video_id|                                                                                                                                               comment_text|likes|replies|\n",
      "+-----------+-----------------------------------------------------------------------------------------------------------------------------------------------------------+-----+-------+\n",
      "|odhMmAPDc54|                                                                                                 follow me on stuff in the description rawr XD lololol edgy|10162|    401|\n",
      "|5qlSfNVp3fU|MEOW! … Still no dislikes! \\nAfrica was amazing, I spent almost 3 weeks at Emoya, it's a great sanctuary - https://emoya.org.za … I had to make this vid...| 1393|    230|\n",
      "|tp9aQXDFHbY|                                                     Make sure to check back next Friday as we are launching our brand new animated HALLOWEEN special! 🐱🕷| 1329|    162|\n",
      "|-1fzGnFwz9M|                                                                         I make interesting cartoons and I need your help! Go to the channel, rate my work!|  839|      5|\n",
      "|tp9aQXDFHbY|                                                                                                         1:51 so your nuts are your most prized possession?|  121|      8|\n",
      "+-----------+-----------------------------------------------------------------------------------------------------------------------------------------------------------+-----+-------+\n",
      "only showing top 5 rows\n",
      "\n"
     ]
    }
   ],
   "source": [
    "# ...\n",
    "top_cats_videos. select('video_id'\n",
    "                 ).join(comments, on='video_id'\n",
    "              ).groupBy('video_id', 'comment_text'\n",
    "                  ).agg(\n",
    "                    sum('likes').alias('likes'), sum('replies').alias('replies')\n",
    "              ).orderBy(desc('likes'), desc('replies')\n",
    "    ).cache().show(5, 155)"
   ]
  },
  {
   "cell_type": "code",
   "execution_count": 201,
   "id": "40894020-d270-4060-aa85-24578bd6bee8",
   "metadata": {},
   "outputs": [
    {
     "name": "stdout",
     "output_type": "stream",
     "text": [
      "Search globals of type <(True, 'pyspark.sql.dataframe.DataFrame')>:..\n"
     ]
    },
    {
     "data": {
      "text/plain": [
       "['videos',\n",
       " 'videos_src',\n",
       " 'comments',\n",
       " 'comments_by_video',\n",
       " 'df',\n",
       " 'df_exploded',\n",
       " 'categories_df',\n",
       " 'videos_with_categories',\n",
       " 'median_scores',\n",
       " 'scored_videos_with_category_name',\n",
       " 'category_score_median',\n",
       " 'videos_df',\n",
       " 'videos_tagged',\n",
       " 'top_cats_tags',\n",
       " 'top_cats_videos_tagged',\n",
       " 'top_cats_videos']"
      ]
     },
     "execution_count": 201,
     "metadata": {},
     "output_type": "execute_result"
    }
   ],
   "source": [
    "dff = %globs pyspark.sql.dataframe.DataFrame\n",
    "dff"
   ]
  },
  {
   "cell_type": "code",
   "execution_count": 249,
   "id": "7b7ab230-3750-4575-9449-8449604821a5",
   "metadata": {},
   "outputs": [
    {
     "name": "stdout",
     "output_type": "stream",
     "text": [
      "videos: 2415 rows\n"
     ]
    },
    {
     "data": {
      "text/html": [
       "<div>\n",
       "<style scoped>\n",
       "    .dataframe tbody tr th:only-of-type {\n",
       "        vertical-align: middle;\n",
       "    }\n",
       "\n",
       "    .dataframe tbody tr th {\n",
       "        vertical-align: top;\n",
       "    }\n",
       "\n",
       "    .dataframe thead th {\n",
       "        text-align: right;\n",
       "    }\n",
       "</style>\n",
       "<table border=\"1\" class=\"dataframe\">\n",
       "  <thead>\n",
       "    <tr style=\"text-align: right;\">\n",
       "      <th></th>\n",
       "      <th>video_id</th>\n",
       "      <th>views</th>\n",
       "      <th>likes</th>\n",
       "      <th>dislikes</th>\n",
       "      <th>category_id</th>\n",
       "      <th>tags</th>\n",
       "      <th>likes_c</th>\n",
       "      <th>score</th>\n",
       "      <th>tags_array</th>\n",
       "    </tr>\n",
       "  </thead>\n",
       "  <tbody>\n",
       "    <tr>\n",
       "      <th>0</th>\n",
       "      <td>4yCkkOvIkUI</td>\n",
       "      <td>12905</td>\n",
       "      <td>59</td>\n",
       "      <td>43</td>\n",
       "      <td>24</td>\n",
       "      <td>[none]</td>\n",
       "      <td>36</td>\n",
       "      <td>0.004029</td>\n",
       "      <td>[[none]]</td>\n",
       "    </tr>\n",
       "  </tbody>\n",
       "</table>\n",
       "</div>"
      ],
      "text/plain": [
       "      video_id  views  likes  dislikes  category_id    tags  likes_c  \\\n",
       "0  4yCkkOvIkUI  12905     59        43           24  [none]       36   \n",
       "\n",
       "      score tags_array  \n",
       "0  0.004029   [[none]]  "
      ]
     },
     "metadata": {},
     "output_type": "display_data"
    },
    {
     "name": "stdout",
     "output_type": "stream",
     "text": [
      "\n",
      "videos_src: 7998 rows\n"
     ]
    },
    {
     "data": {
      "text/html": [
       "<div>\n",
       "<style scoped>\n",
       "    .dataframe tbody tr th:only-of-type {\n",
       "        vertical-align: middle;\n",
       "    }\n",
       "\n",
       "    .dataframe tbody tr th {\n",
       "        vertical-align: top;\n",
       "    }\n",
       "\n",
       "    .dataframe thead th {\n",
       "        text-align: right;\n",
       "    }\n",
       "</style>\n",
       "<table border=\"1\" class=\"dataframe\">\n",
       "  <thead>\n",
       "    <tr style=\"text-align: right;\">\n",
       "      <th></th>\n",
       "      <th>video_id</th>\n",
       "      <th>title</th>\n",
       "      <th>channel_title</th>\n",
       "      <th>category_id</th>\n",
       "      <th>tags</th>\n",
       "      <th>views</th>\n",
       "      <th>likes</th>\n",
       "      <th>dislikes</th>\n",
       "      <th>comment_total</th>\n",
       "      <th>thumbnail_link</th>\n",
       "      <th>date</th>\n",
       "    </tr>\n",
       "  </thead>\n",
       "  <tbody>\n",
       "    <tr>\n",
       "      <th>0</th>\n",
       "      <td>XpVt6Z1Gjjo</td>\n",
       "      <td>1 YEAR OF VLOGGING -- HOW LOGAN PAUL CHANGED Y...</td>\n",
       "      <td>Logan Paul Vlogs</td>\n",
       "      <td>24</td>\n",
       "      <td>logan paul vlog|logan paul|logan|paul|olympics...</td>\n",
       "      <td>4394029</td>\n",
       "      <td>320053</td>\n",
       "      <td>5931</td>\n",
       "      <td>46245</td>\n",
       "      <td>https://i.ytimg.com/vi/XpVt6Z1Gjjo/default.jpg</td>\n",
       "      <td>13.09</td>\n",
       "    </tr>\n",
       "  </tbody>\n",
       "</table>\n",
       "</div>"
      ],
      "text/plain": [
       "      video_id                                              title  \\\n",
       "0  XpVt6Z1Gjjo  1 YEAR OF VLOGGING -- HOW LOGAN PAUL CHANGED Y...   \n",
       "\n",
       "      channel_title  category_id  \\\n",
       "0  Logan Paul Vlogs           24   \n",
       "\n",
       "                                                tags    views   likes  \\\n",
       "0  logan paul vlog|logan paul|logan|paul|olympics...  4394029  320053   \n",
       "\n",
       "   dislikes  comment_total                                  thumbnail_link  \\\n",
       "0      5931          46245  https://i.ytimg.com/vi/XpVt6Z1Gjjo/default.jpg   \n",
       "\n",
       "    date  \n",
       "0  13.09  "
      ]
     },
     "metadata": {},
     "output_type": "display_data"
    },
    {
     "name": "stdout",
     "output_type": "stream",
     "text": [
      "\n",
      "comments: 691318 rows\n"
     ]
    },
    {
     "data": {
      "text/html": [
       "<div>\n",
       "<style scoped>\n",
       "    .dataframe tbody tr th:only-of-type {\n",
       "        vertical-align: middle;\n",
       "    }\n",
       "\n",
       "    .dataframe tbody tr th {\n",
       "        vertical-align: top;\n",
       "    }\n",
       "\n",
       "    .dataframe thead th {\n",
       "        text-align: right;\n",
       "    }\n",
       "</style>\n",
       "<table border=\"1\" class=\"dataframe\">\n",
       "  <thead>\n",
       "    <tr style=\"text-align: right;\">\n",
       "      <th></th>\n",
       "      <th>video_id</th>\n",
       "      <th>comment_text</th>\n",
       "      <th>likes</th>\n",
       "      <th>replies</th>\n",
       "    </tr>\n",
       "  </thead>\n",
       "  <tbody>\n",
       "    <tr>\n",
       "      <th>0</th>\n",
       "      <td>XpVt6Z1Gjjo</td>\n",
       "      <td>Logan Paul it's yo big day ‼️‼️‼️</td>\n",
       "      <td>4</td>\n",
       "      <td>0</td>\n",
       "    </tr>\n",
       "  </tbody>\n",
       "</table>\n",
       "</div>"
      ],
      "text/plain": [
       "      video_id                       comment_text  likes  replies\n",
       "0  XpVt6Z1Gjjo  Logan Paul it's yo big day ‼️‼️‼️      4        0"
      ]
     },
     "metadata": {},
     "output_type": "display_data"
    },
    {
     "name": "stdout",
     "output_type": "stream",
     "text": [
      "\n",
      "comments_by_video: 2266 rows\n"
     ]
    },
    {
     "data": {
      "text/html": [
       "<div>\n",
       "<style scoped>\n",
       "    .dataframe tbody tr th:only-of-type {\n",
       "        vertical-align: middle;\n",
       "    }\n",
       "\n",
       "    .dataframe tbody tr th {\n",
       "        vertical-align: top;\n",
       "    }\n",
       "\n",
       "    .dataframe thead th {\n",
       "        text-align: right;\n",
       "    }\n",
       "</style>\n",
       "<table border=\"1\" class=\"dataframe\">\n",
       "  <thead>\n",
       "    <tr style=\"text-align: right;\">\n",
       "      <th></th>\n",
       "      <th>video_id</th>\n",
       "      <th>sum(likes)</th>\n",
       "    </tr>\n",
       "  </thead>\n",
       "  <tbody>\n",
       "    <tr>\n",
       "      <th>0</th>\n",
       "      <td>xPS7bqBePSs</td>\n",
       "      <td>1037</td>\n",
       "    </tr>\n",
       "  </tbody>\n",
       "</table>\n",
       "</div>"
      ],
      "text/plain": [
       "      video_id  sum(likes)\n",
       "0  xPS7bqBePSs        1037"
      ]
     },
     "metadata": {},
     "output_type": "display_data"
    },
    {
     "name": "stdout",
     "output_type": "stream",
     "text": [
      "\n",
      "df: 2266 rows\n"
     ]
    },
    {
     "data": {
      "text/html": [
       "<div>\n",
       "<style scoped>\n",
       "    .dataframe tbody tr th:only-of-type {\n",
       "        vertical-align: middle;\n",
       "    }\n",
       "\n",
       "    .dataframe tbody tr th {\n",
       "        vertical-align: top;\n",
       "    }\n",
       "\n",
       "    .dataframe thead th {\n",
       "        text-align: right;\n",
       "    }\n",
       "</style>\n",
       "<table border=\"1\" class=\"dataframe\">\n",
       "  <thead>\n",
       "    <tr style=\"text-align: right;\">\n",
       "      <th></th>\n",
       "      <th>video_id</th>\n",
       "      <th>sum(likes)</th>\n",
       "    </tr>\n",
       "  </thead>\n",
       "  <tbody>\n",
       "    <tr>\n",
       "      <th>0</th>\n",
       "      <td>xPS7bqBePSs</td>\n",
       "      <td>1037</td>\n",
       "    </tr>\n",
       "  </tbody>\n",
       "</table>\n",
       "</div>"
      ],
      "text/plain": [
       "      video_id  sum(likes)\n",
       "0  xPS7bqBePSs        1037"
      ]
     },
     "metadata": {},
     "output_type": "display_data"
    },
    {
     "name": "stdout",
     "output_type": "stream",
     "text": [
      "\n",
      "df_exploded: 32 rows\n"
     ]
    },
    {
     "data": {
      "text/html": [
       "<div>\n",
       "<style scoped>\n",
       "    .dataframe tbody tr th:only-of-type {\n",
       "        vertical-align: middle;\n",
       "    }\n",
       "\n",
       "    .dataframe tbody tr th {\n",
       "        vertical-align: top;\n",
       "    }\n",
       "\n",
       "    .dataframe thead th {\n",
       "        text-align: right;\n",
       "    }\n",
       "</style>\n",
       "<table border=\"1\" class=\"dataframe\">\n",
       "  <thead>\n",
       "    <tr style=\"text-align: right;\">\n",
       "      <th></th>\n",
       "      <th>item</th>\n",
       "    </tr>\n",
       "  </thead>\n",
       "  <tbody>\n",
       "    <tr>\n",
       "      <th>0</th>\n",
       "      <td>(\"m2yskBQFythfE4irbTIeOgYYfBU/Xy1mB4_yLrHy_BmK...</td>\n",
       "    </tr>\n",
       "  </tbody>\n",
       "</table>\n",
       "</div>"
      ],
      "text/plain": [
       "                                                item\n",
       "0  (\"m2yskBQFythfE4irbTIeOgYYfBU/Xy1mB4_yLrHy_BmK..."
      ]
     },
     "metadata": {},
     "output_type": "display_data"
    },
    {
     "name": "stdout",
     "output_type": "stream",
     "text": [
      "\n",
      "categories_df: 32 rows\n"
     ]
    },
    {
     "data": {
      "text/html": [
       "<div>\n",
       "<style scoped>\n",
       "    .dataframe tbody tr th:only-of-type {\n",
       "        vertical-align: middle;\n",
       "    }\n",
       "\n",
       "    .dataframe tbody tr th {\n",
       "        vertical-align: top;\n",
       "    }\n",
       "\n",
       "    .dataframe thead th {\n",
       "        text-align: right;\n",
       "    }\n",
       "</style>\n",
       "<table border=\"1\" class=\"dataframe\">\n",
       "  <thead>\n",
       "    <tr style=\"text-align: right;\">\n",
       "      <th></th>\n",
       "      <th>category_id</th>\n",
       "      <th>category_name</th>\n",
       "    </tr>\n",
       "  </thead>\n",
       "  <tbody>\n",
       "    <tr>\n",
       "      <th>0</th>\n",
       "      <td>1</td>\n",
       "      <td>Film &amp; Animation</td>\n",
       "    </tr>\n",
       "  </tbody>\n",
       "</table>\n",
       "</div>"
      ],
      "text/plain": [
       "  category_id     category_name\n",
       "0           1  Film & Animation"
      ]
     },
     "metadata": {},
     "output_type": "display_data"
    },
    {
     "name": "stdout",
     "output_type": "stream",
     "text": [
      "\n",
      "videos_with_categories: 2415 rows\n"
     ]
    },
    {
     "data": {
      "text/html": [
       "<div>\n",
       "<style scoped>\n",
       "    .dataframe tbody tr th:only-of-type {\n",
       "        vertical-align: middle;\n",
       "    }\n",
       "\n",
       "    .dataframe tbody tr th {\n",
       "        vertical-align: top;\n",
       "    }\n",
       "\n",
       "    .dataframe thead th {\n",
       "        text-align: right;\n",
       "    }\n",
       "</style>\n",
       "<table border=\"1\" class=\"dataframe\">\n",
       "  <thead>\n",
       "    <tr style=\"text-align: right;\">\n",
       "      <th></th>\n",
       "      <th>category_id</th>\n",
       "      <th>video_id</th>\n",
       "      <th>views</th>\n",
       "      <th>likes</th>\n",
       "      <th>dislikes</th>\n",
       "      <th>tags</th>\n",
       "      <th>likes_c</th>\n",
       "      <th>score</th>\n",
       "      <th>category_name</th>\n",
       "    </tr>\n",
       "  </thead>\n",
       "  <tbody>\n",
       "    <tr>\n",
       "      <th>0</th>\n",
       "      <td>28</td>\n",
       "      <td>CAQ2wWVlOuc</td>\n",
       "      <td>146015</td>\n",
       "      <td>1811</td>\n",
       "      <td>396</td>\n",
       "      <td>Tech Insider|TI|Tech|Science|Innovation|Digita...</td>\n",
       "      <td>923</td>\n",
       "      <td>0.016012</td>\n",
       "      <td>Science &amp; Technology</td>\n",
       "    </tr>\n",
       "  </tbody>\n",
       "</table>\n",
       "</div>"
      ],
      "text/plain": [
       "   category_id     video_id   views  likes  dislikes  \\\n",
       "0           28  CAQ2wWVlOuc  146015   1811       396   \n",
       "\n",
       "                                                tags  likes_c     score  \\\n",
       "0  Tech Insider|TI|Tech|Science|Innovation|Digita...      923  0.016012   \n",
       "\n",
       "          category_name  \n",
       "0  Science & Technology  "
      ]
     },
     "metadata": {},
     "output_type": "display_data"
    },
    {
     "name": "stdout",
     "output_type": "stream",
     "text": [
      "\n",
      "median_scores: 16 rows\n"
     ]
    },
    {
     "data": {
      "text/html": [
       "<div>\n",
       "<style scoped>\n",
       "    .dataframe tbody tr th:only-of-type {\n",
       "        vertical-align: middle;\n",
       "    }\n",
       "\n",
       "    .dataframe tbody tr th {\n",
       "        vertical-align: top;\n",
       "    }\n",
       "\n",
       "    .dataframe thead th {\n",
       "        text-align: right;\n",
       "    }\n",
       "</style>\n",
       "<table border=\"1\" class=\"dataframe\">\n",
       "  <thead>\n",
       "    <tr style=\"text-align: right;\">\n",
       "      <th></th>\n",
       "      <th>category_name</th>\n",
       "      <th>median_score</th>\n",
       "    </tr>\n",
       "  </thead>\n",
       "  <tbody>\n",
       "    <tr>\n",
       "      <th>0</th>\n",
       "      <td>Shows</td>\n",
       "      <td>0.018781</td>\n",
       "    </tr>\n",
       "  </tbody>\n",
       "</table>\n",
       "</div>"
      ],
      "text/plain": [
       "  category_name  median_score\n",
       "0         Shows      0.018781"
      ]
     },
     "metadata": {},
     "output_type": "display_data"
    },
    {
     "name": "stdout",
     "output_type": "stream",
     "text": [
      "\n",
      "scored_videos_with_category_name: 2415 rows\n"
     ]
    },
    {
     "data": {
      "text/html": [
       "<div>\n",
       "<style scoped>\n",
       "    .dataframe tbody tr th:only-of-type {\n",
       "        vertical-align: middle;\n",
       "    }\n",
       "\n",
       "    .dataframe tbody tr th {\n",
       "        vertical-align: top;\n",
       "    }\n",
       "\n",
       "    .dataframe thead th {\n",
       "        text-align: right;\n",
       "    }\n",
       "</style>\n",
       "<table border=\"1\" class=\"dataframe\">\n",
       "  <thead>\n",
       "    <tr style=\"text-align: right;\">\n",
       "      <th></th>\n",
       "      <th>category_id</th>\n",
       "      <th>video_id</th>\n",
       "      <th>views</th>\n",
       "      <th>likes</th>\n",
       "      <th>dislikes</th>\n",
       "      <th>tags</th>\n",
       "      <th>likes_c</th>\n",
       "      <th>score</th>\n",
       "      <th>category_name</th>\n",
       "    </tr>\n",
       "  </thead>\n",
       "  <tbody>\n",
       "    <tr>\n",
       "      <th>0</th>\n",
       "      <td>28</td>\n",
       "      <td>CAQ2wWVlOuc</td>\n",
       "      <td>146015</td>\n",
       "      <td>1811</td>\n",
       "      <td>396</td>\n",
       "      <td>Tech Insider|TI|Tech|Science|Innovation|Digita...</td>\n",
       "      <td>923</td>\n",
       "      <td>0.016012</td>\n",
       "      <td>Science &amp; Technology</td>\n",
       "    </tr>\n",
       "  </tbody>\n",
       "</table>\n",
       "</div>"
      ],
      "text/plain": [
       "   category_id     video_id   views  likes  dislikes  \\\n",
       "0           28  CAQ2wWVlOuc  146015   1811       396   \n",
       "\n",
       "                                                tags  likes_c     score  \\\n",
       "0  Tech Insider|TI|Tech|Science|Innovation|Digita...      923  0.016012   \n",
       "\n",
       "          category_name  \n",
       "0  Science & Technology  "
      ]
     },
     "metadata": {},
     "output_type": "display_data"
    },
    {
     "name": "stdout",
     "output_type": "stream",
     "text": [
      "\n",
      "category_score_median: 16 rows\n"
     ]
    },
    {
     "data": {
      "text/html": [
       "<div>\n",
       "<style scoped>\n",
       "    .dataframe tbody tr th:only-of-type {\n",
       "        vertical-align: middle;\n",
       "    }\n",
       "\n",
       "    .dataframe tbody tr th {\n",
       "        vertical-align: top;\n",
       "    }\n",
       "\n",
       "    .dataframe thead th {\n",
       "        text-align: right;\n",
       "    }\n",
       "</style>\n",
       "<table border=\"1\" class=\"dataframe\">\n",
       "  <thead>\n",
       "    <tr style=\"text-align: right;\">\n",
       "      <th></th>\n",
       "      <th>category_name</th>\n",
       "      <th>median_score</th>\n",
       "    </tr>\n",
       "  </thead>\n",
       "  <tbody>\n",
       "    <tr>\n",
       "      <th>0</th>\n",
       "      <td>Shows</td>\n",
       "      <td>0.018781</td>\n",
       "    </tr>\n",
       "  </tbody>\n",
       "</table>\n",
       "</div>"
      ],
      "text/plain": [
       "  category_name  median_score\n",
       "0         Shows      0.018781"
      ]
     },
     "metadata": {},
     "output_type": "display_data"
    },
    {
     "name": "stdout",
     "output_type": "stream",
     "text": [
      "\n",
      "videos_df: 2415 rows\n"
     ]
    },
    {
     "data": {
      "text/html": [
       "<div>\n",
       "<style scoped>\n",
       "    .dataframe tbody tr th:only-of-type {\n",
       "        vertical-align: middle;\n",
       "    }\n",
       "\n",
       "    .dataframe tbody tr th {\n",
       "        vertical-align: top;\n",
       "    }\n",
       "\n",
       "    .dataframe thead th {\n",
       "        text-align: right;\n",
       "    }\n",
       "</style>\n",
       "<table border=\"1\" class=\"dataframe\">\n",
       "  <thead>\n",
       "    <tr style=\"text-align: right;\">\n",
       "      <th></th>\n",
       "      <th>category_id</th>\n",
       "      <th>video_id</th>\n",
       "      <th>views</th>\n",
       "      <th>likes</th>\n",
       "      <th>dislikes</th>\n",
       "      <th>tags</th>\n",
       "      <th>likes_c</th>\n",
       "      <th>score</th>\n",
       "      <th>category_name</th>\n",
       "    </tr>\n",
       "  </thead>\n",
       "  <tbody>\n",
       "    <tr>\n",
       "      <th>0</th>\n",
       "      <td>24</td>\n",
       "      <td>4yCkkOvIkUI</td>\n",
       "      <td>12905</td>\n",
       "      <td>59</td>\n",
       "      <td>43</td>\n",
       "      <td>[none]</td>\n",
       "      <td>36</td>\n",
       "      <td>0.004029</td>\n",
       "      <td>Entertainment</td>\n",
       "    </tr>\n",
       "  </tbody>\n",
       "</table>\n",
       "</div>"
      ],
      "text/plain": [
       "   category_id     video_id  views  likes  dislikes    tags  likes_c  \\\n",
       "0           24  4yCkkOvIkUI  12905     59        43  [none]       36   \n",
       "\n",
       "      score  category_name  \n",
       "0  0.004029  Entertainment  "
      ]
     },
     "metadata": {},
     "output_type": "display_data"
    },
    {
     "name": "stdout",
     "output_type": "stream",
     "text": [
      "\n",
      "videos_tagged: 44170 rows\n"
     ]
    },
    {
     "data": {
      "text/html": [
       "<div>\n",
       "<style scoped>\n",
       "    .dataframe tbody tr th:only-of-type {\n",
       "        vertical-align: middle;\n",
       "    }\n",
       "\n",
       "    .dataframe tbody tr th {\n",
       "        vertical-align: top;\n",
       "    }\n",
       "\n",
       "    .dataframe thead th {\n",
       "        text-align: right;\n",
       "    }\n",
       "</style>\n",
       "<table border=\"1\" class=\"dataframe\">\n",
       "  <thead>\n",
       "    <tr style=\"text-align: right;\">\n",
       "      <th></th>\n",
       "      <th>video_id</th>\n",
       "      <th>views</th>\n",
       "      <th>likes</th>\n",
       "      <th>dislikes</th>\n",
       "      <th>category_id</th>\n",
       "      <th>tags</th>\n",
       "      <th>likes_c</th>\n",
       "      <th>score</th>\n",
       "      <th>tags_array</th>\n",
       "      <th>tag</th>\n",
       "    </tr>\n",
       "  </thead>\n",
       "  <tbody>\n",
       "    <tr>\n",
       "      <th>0</th>\n",
       "      <td>4yCkkOvIkUI</td>\n",
       "      <td>12905</td>\n",
       "      <td>59</td>\n",
       "      <td>43</td>\n",
       "      <td>24</td>\n",
       "      <td>[none]</td>\n",
       "      <td>36</td>\n",
       "      <td>0.004029</td>\n",
       "      <td>[[none]]</td>\n",
       "      <td>[none]</td>\n",
       "    </tr>\n",
       "  </tbody>\n",
       "</table>\n",
       "</div>"
      ],
      "text/plain": [
       "      video_id  views  likes  dislikes  category_id    tags  likes_c  \\\n",
       "0  4yCkkOvIkUI  12905     59        43           24  [none]       36   \n",
       "\n",
       "      score tags_array     tag  \n",
       "0  0.004029   [[none]]  [none]  "
      ]
     },
     "metadata": {},
     "output_type": "display_data"
    },
    {
     "name": "stdout",
     "output_type": "stream",
     "text": [
      "\n",
      "top_cats_tags: 19 rows\n"
     ]
    },
    {
     "data": {
      "text/html": [
       "<div>\n",
       "<style scoped>\n",
       "    .dataframe tbody tr th:only-of-type {\n",
       "        vertical-align: middle;\n",
       "    }\n",
       "\n",
       "    .dataframe tbody tr th {\n",
       "        vertical-align: top;\n",
       "    }\n",
       "\n",
       "    .dataframe thead th {\n",
       "        text-align: right;\n",
       "    }\n",
       "</style>\n",
       "<table border=\"1\" class=\"dataframe\">\n",
       "  <thead>\n",
       "    <tr style=\"text-align: right;\">\n",
       "      <th></th>\n",
       "      <th>tag</th>\n",
       "      <th>cnt</th>\n",
       "      <th>avg_score</th>\n",
       "    </tr>\n",
       "  </thead>\n",
       "  <tbody>\n",
       "    <tr>\n",
       "      <th>0</th>\n",
       "      <td>cute cats</td>\n",
       "      <td>6</td>\n",
       "      <td>0.047227</td>\n",
       "    </tr>\n",
       "  </tbody>\n",
       "</table>\n",
       "</div>"
      ],
      "text/plain": [
       "         tag  cnt  avg_score\n",
       "0  cute cats    6   0.047227"
      ]
     },
     "metadata": {},
     "output_type": "display_data"
    },
    {
     "name": "stdout",
     "output_type": "stream",
     "text": [
      "\n",
      "top_cats_videos_tagged: 33 rows\n"
     ]
    },
    {
     "data": {
      "text/html": [
       "<div>\n",
       "<style scoped>\n",
       "    .dataframe tbody tr th:only-of-type {\n",
       "        vertical-align: middle;\n",
       "    }\n",
       "\n",
       "    .dataframe tbody tr th {\n",
       "        vertical-align: top;\n",
       "    }\n",
       "\n",
       "    .dataframe thead th {\n",
       "        text-align: right;\n",
       "    }\n",
       "</style>\n",
       "<table border=\"1\" class=\"dataframe\">\n",
       "  <thead>\n",
       "    <tr style=\"text-align: right;\">\n",
       "      <th></th>\n",
       "      <th>video_id</th>\n",
       "      <th>score</th>\n",
       "      <th>likes</th>\n",
       "      <th>likes_c</th>\n",
       "      <th>tag</th>\n",
       "      <th>tag_avg_score</th>\n",
       "    </tr>\n",
       "  </thead>\n",
       "  <tbody>\n",
       "    <tr>\n",
       "      <th>0</th>\n",
       "      <td>msWS8WxRsrY</td>\n",
       "      <td>0.078571</td>\n",
       "      <td>371259</td>\n",
       "      <td>34</td>\n",
       "      <td>crazy cat lady</td>\n",
       "      <td>0.078571</td>\n",
       "    </tr>\n",
       "  </tbody>\n",
       "</table>\n",
       "</div>"
      ],
      "text/plain": [
       "      video_id     score   likes  likes_c             tag  tag_avg_score\n",
       "0  msWS8WxRsrY  0.078571  371259       34  crazy cat lady       0.078571"
      ]
     },
     "metadata": {},
     "output_type": "display_data"
    },
    {
     "name": "stdout",
     "output_type": "stream",
     "text": [
      "\n",
      "top_cats_videos: 10 rows\n"
     ]
    },
    {
     "data": {
      "text/html": [
       "<div>\n",
       "<style scoped>\n",
       "    .dataframe tbody tr th:only-of-type {\n",
       "        vertical-align: middle;\n",
       "    }\n",
       "\n",
       "    .dataframe tbody tr th {\n",
       "        vertical-align: top;\n",
       "    }\n",
       "\n",
       "    .dataframe thead th {\n",
       "        text-align: right;\n",
       "    }\n",
       "</style>\n",
       "<table border=\"1\" class=\"dataframe\">\n",
       "  <thead>\n",
       "    <tr style=\"text-align: right;\">\n",
       "      <th></th>\n",
       "      <th>video_id</th>\n",
       "      <th>score</th>\n",
       "      <th>likes</th>\n",
       "      <th>likes_c</th>\n",
       "    </tr>\n",
       "  </thead>\n",
       "  <tbody>\n",
       "    <tr>\n",
       "      <th>0</th>\n",
       "      <td>msWS8WxRsrY</td>\n",
       "      <td>0.078571</td>\n",
       "      <td>371259</td>\n",
       "      <td>34</td>\n",
       "    </tr>\n",
       "  </tbody>\n",
       "</table>\n",
       "</div>"
      ],
      "text/plain": [
       "      video_id     score   likes  likes_c\n",
       "0  msWS8WxRsrY  0.078571  371259       34"
      ]
     },
     "metadata": {},
     "output_type": "display_data"
    },
    {
     "name": "stdout",
     "output_type": "stream",
     "text": [
      "\n"
     ]
    }
   ],
   "source": [
    "show_dfs(dff)"
   ]
  },
  {
   "cell_type": "code",
   "execution_count": 233,
   "id": "ac026172-e738-4e90-85af-5fa3f65f9064",
   "metadata": {},
   "outputs": [
    {
     "name": "stdout",
     "output_type": "stream",
     "text": [
      "# videos:\tget_videos_df\tvideos\tvideos_src\tvideos_with_categories\tscored_videos_with_category_name\tvideos_df\tvideos_tagged\ttop_cats_videos_tagged\ttop_cats_videos\t\n",
      "# categor:\tcategories_df\tvideos_with_categories\tscored_videos_with_category_name\tcategory_score_median\t\n",
      "# comments:\tcomments_schema\tcomments\tcomments_by_video\t\n"
     ]
    },
    {
     "data": {
      "text/plain": [
       "['videos', 'categor', 'comments']"
      ]
     },
     "execution_count": 233,
     "metadata": {},
     "output_type": "execute_result"
    }
   ],
   "source": [
    "%globs -p videos categor comments"
   ]
  },
  {
   "cell_type": "code",
   "execution_count": 250,
   "id": "1f62170b-55b9-45ef-a7fd-7aa9cbc72b9e",
   "metadata": {},
   "outputs": [
    {
     "name": "stdout",
     "output_type": "stream",
     "text": [
      "DataFrame[video_id: string, title: string, channel_title: string, category_id: int, tags: string, views: int, likes: int, dislikes: int, comment_total: int, thumbnail_link: string, date: string]: 7998 rows\n"
     ]
    },
    {
     "data": {
      "text/html": [
       "<div>\n",
       "<style scoped>\n",
       "    .dataframe tbody tr th:only-of-type {\n",
       "        vertical-align: middle;\n",
       "    }\n",
       "\n",
       "    .dataframe tbody tr th {\n",
       "        vertical-align: top;\n",
       "    }\n",
       "\n",
       "    .dataframe thead th {\n",
       "        text-align: right;\n",
       "    }\n",
       "</style>\n",
       "<table border=\"1\" class=\"dataframe\">\n",
       "  <thead>\n",
       "    <tr style=\"text-align: right;\">\n",
       "      <th></th>\n",
       "      <th>video_id</th>\n",
       "      <th>title</th>\n",
       "      <th>channel_title</th>\n",
       "      <th>category_id</th>\n",
       "      <th>tags</th>\n",
       "      <th>views</th>\n",
       "      <th>likes</th>\n",
       "      <th>dislikes</th>\n",
       "      <th>comment_total</th>\n",
       "      <th>thumbnail_link</th>\n",
       "      <th>date</th>\n",
       "    </tr>\n",
       "  </thead>\n",
       "  <tbody>\n",
       "    <tr>\n",
       "      <th>0</th>\n",
       "      <td>XpVt6Z1Gjjo</td>\n",
       "      <td>1 YEAR OF VLOGGING -- HOW LOGAN PAUL CHANGED Y...</td>\n",
       "      <td>Logan Paul Vlogs</td>\n",
       "      <td>24</td>\n",
       "      <td>logan paul vlog|logan paul|logan|paul|olympics...</td>\n",
       "      <td>4394029</td>\n",
       "      <td>320053</td>\n",
       "      <td>5931</td>\n",
       "      <td>46245</td>\n",
       "      <td>https://i.ytimg.com/vi/XpVt6Z1Gjjo/default.jpg</td>\n",
       "      <td>13.09</td>\n",
       "    </tr>\n",
       "  </tbody>\n",
       "</table>\n",
       "</div>"
      ],
      "text/plain": [
       "      video_id                                              title  \\\n",
       "0  XpVt6Z1Gjjo  1 YEAR OF VLOGGING -- HOW LOGAN PAUL CHANGED Y...   \n",
       "\n",
       "      channel_title  category_id  \\\n",
       "0  Logan Paul Vlogs           24   \n",
       "\n",
       "                                                tags    views   likes  \\\n",
       "0  logan paul vlog|logan paul|logan|paul|olympics...  4394029  320053   \n",
       "\n",
       "   dislikes  comment_total                                  thumbnail_link  \\\n",
       "0      5931          46245  https://i.ytimg.com/vi/XpVt6Z1Gjjo/default.jpg   \n",
       "\n",
       "    date  \n",
       "0  13.09  "
      ]
     },
     "metadata": {},
     "output_type": "display_data"
    },
    {
     "name": "stdout",
     "output_type": "stream",
     "text": [
      "\n",
      "DataFrame[video_id: string, comment_text: string, likes: int, replies: int]: 691318 rows\n"
     ]
    },
    {
     "data": {
      "text/html": [
       "<div>\n",
       "<style scoped>\n",
       "    .dataframe tbody tr th:only-of-type {\n",
       "        vertical-align: middle;\n",
       "    }\n",
       "\n",
       "    .dataframe tbody tr th {\n",
       "        vertical-align: top;\n",
       "    }\n",
       "\n",
       "    .dataframe thead th {\n",
       "        text-align: right;\n",
       "    }\n",
       "</style>\n",
       "<table border=\"1\" class=\"dataframe\">\n",
       "  <thead>\n",
       "    <tr style=\"text-align: right;\">\n",
       "      <th></th>\n",
       "      <th>video_id</th>\n",
       "      <th>comment_text</th>\n",
       "      <th>likes</th>\n",
       "      <th>replies</th>\n",
       "    </tr>\n",
       "  </thead>\n",
       "  <tbody>\n",
       "    <tr>\n",
       "      <th>0</th>\n",
       "      <td>XpVt6Z1Gjjo</td>\n",
       "      <td>Logan Paul it's yo big day ‼️‼️‼️</td>\n",
       "      <td>4</td>\n",
       "      <td>0</td>\n",
       "    </tr>\n",
       "  </tbody>\n",
       "</table>\n",
       "</div>"
      ],
      "text/plain": [
       "      video_id                       comment_text  likes  replies\n",
       "0  XpVt6Z1Gjjo  Logan Paul it's yo big day ‼️‼️‼️      4        0"
      ]
     },
     "metadata": {},
     "output_type": "display_data"
    },
    {
     "name": "stdout",
     "output_type": "stream",
     "text": [
      "\n",
      "DataFrame[category_id: string, category_name: string]: 32 rows\n"
     ]
    },
    {
     "data": {
      "text/html": [
       "<div>\n",
       "<style scoped>\n",
       "    .dataframe tbody tr th:only-of-type {\n",
       "        vertical-align: middle;\n",
       "    }\n",
       "\n",
       "    .dataframe tbody tr th {\n",
       "        vertical-align: top;\n",
       "    }\n",
       "\n",
       "    .dataframe thead th {\n",
       "        text-align: right;\n",
       "    }\n",
       "</style>\n",
       "<table border=\"1\" class=\"dataframe\">\n",
       "  <thead>\n",
       "    <tr style=\"text-align: right;\">\n",
       "      <th></th>\n",
       "      <th>category_id</th>\n",
       "      <th>category_name</th>\n",
       "    </tr>\n",
       "  </thead>\n",
       "  <tbody>\n",
       "    <tr>\n",
       "      <th>0</th>\n",
       "      <td>1</td>\n",
       "      <td>Film &amp; Animation</td>\n",
       "    </tr>\n",
       "  </tbody>\n",
       "</table>\n",
       "</div>"
      ],
      "text/plain": [
       "  category_id     category_name\n",
       "0           1  Film & Animation"
      ]
     },
     "metadata": {},
     "output_type": "display_data"
    },
    {
     "name": "stdout",
     "output_type": "stream",
     "text": [
      "\n"
     ]
    }
   ],
   "source": [
    "show_dfs(videos_src, comments, categories_df, width=22)"
   ]
  }
 ],
 "metadata": {
  "kernelspec": {
   "display_name": "Python 3 (ipykernel)",
   "language": "python",
   "name": "python3"
  },
  "language_info": {
   "codemirror_mode": {
    "name": "ipython",
    "version": 3
   },
   "file_extension": ".py",
   "mimetype": "text/x-python",
   "name": "python",
   "nbconvert_exporter": "python",
   "pygments_lexer": "ipython3",
   "version": "3.11.3"
  }
 },
 "nbformat": 4,
 "nbformat_minor": 5
}
